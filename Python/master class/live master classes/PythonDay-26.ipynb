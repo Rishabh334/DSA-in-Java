{
 "cells": [
  {
   "cell_type": "markdown",
   "id": "31605732",
   "metadata": {},
   "source": [
    "# Binary Search"
   ]
  },
  {
   "cell_type": "code",
   "execution_count": 66,
   "id": "a47583bc",
   "metadata": {},
   "outputs": [
    {
     "name": "stdout",
     "output_type": "stream",
     "text": [
      "5\n",
      "11 22 33 44 55\n",
      "22\n",
      "Found\n",
      "1\n"
     ]
    }
   ],
   "source": [
    "def binary(n,arr,item): # 5 \n",
    "    s=0\n",
    "    e=n-1\n",
    "    mid=(s+e)//2  \n",
    "    while arr[mid]!=item and s<=e:\n",
    "        if item>arr[mid]:\n",
    "            s=mid+1\n",
    "        else:\n",
    "            e=mid-1\n",
    "        mid=(s+e)//2\n",
    "    if arr[mid]==item:\n",
    "          print(\"Found\")\n",
    "          print(mid)  \n",
    "    else:\n",
    "          print(\"Not found\")\n",
    "\n",
    "n=int(input())   # 5\n",
    "arr=[int(l) for l in input().split()]  #  12 23 34 45 56\n",
    "item=int(input())   # 67\n",
    "binary(n,arr,item)\n"
   ]
  },
  {
   "cell_type": "markdown",
   "id": "16dd22d6",
   "metadata": {},
   "source": [
    "# Dictionaries"
   ]
  },
  {
   "cell_type": "code",
   "execution_count": 2,
   "id": "0d90802d",
   "metadata": {},
   "outputs": [],
   "source": [
    "#As of Python version 3.7, dictionaries are ordered. \n",
    "#In Python 3.6 and earlier, dictionaries are unordered.\n",
    "\n",
    "#A dictionary is a collection which is ordered*, changeable and does not allow duplicates.\n",
    "\n",
    "# keys and values\n"
   ]
  },
  {
   "cell_type": "code",
   "execution_count": 67,
   "id": "cf40c39e",
   "metadata": {},
   "outputs": [],
   "source": [
    "univ_dict = {\n",
    "  \"univ\": \"Chitkara\",\n",
    "  \"city\": \"Banur\",\n",
    "  \"year\": 2009\n",
    "}"
   ]
  },
  {
   "cell_type": "code",
   "execution_count": 68,
   "id": "f95b3740",
   "metadata": {},
   "outputs": [
    {
     "name": "stdout",
     "output_type": "stream",
     "text": [
      "{'univ': 'Chitkara', 'city': 'Banur', 'year': 2009}\n"
     ]
    }
   ],
   "source": [
    "print(univ_dict)"
   ]
  },
  {
   "cell_type": "code",
   "execution_count": 101,
   "id": "6be94599",
   "metadata": {},
   "outputs": [],
   "source": [
    "# Dictionaries cannot have two items with the same key:\n",
    "univ_dict = {\n",
    "  \"univ\": \"Chitkara\",\n",
    "  \"city\": \"Banur\",\n",
    "  \"year\": 2018,\n",
    "    \"year\":2021\n",
    "}"
   ]
  },
  {
   "cell_type": "code",
   "execution_count": 102,
   "id": "00ce4bc5",
   "metadata": {},
   "outputs": [
    {
     "name": "stdout",
     "output_type": "stream",
     "text": [
      "{'univ': 'Chitkara', 'city': 'Banur', 'year': 2021}\n"
     ]
    }
   ],
   "source": [
    "print(univ_dict)"
   ]
  },
  {
   "cell_type": "code",
   "execution_count": 103,
   "id": "ffc9e095",
   "metadata": {},
   "outputs": [
    {
     "name": "stdout",
     "output_type": "stream",
     "text": [
      "{'univ': 'Chitkara', 'city': 'Banur', 'year': 2009, 'YeAr': 2011}\n"
     ]
    }
   ],
   "source": [
    "univ_dict = {\n",
    "  \"univ\": \"Chitkara\",\n",
    "  \"city\": \"Banur\",\n",
    "  \"year\": 2009,\n",
    "    \"YeAr\":2011\n",
    "}\n",
    "print(univ_dict)"
   ]
  },
  {
   "cell_type": "code",
   "execution_count": 104,
   "id": "9235df16",
   "metadata": {},
   "outputs": [
    {
     "name": "stdout",
     "output_type": "stream",
     "text": [
      "4\n"
     ]
    }
   ],
   "source": [
    "print(len(univ_dict))"
   ]
  },
  {
   "cell_type": "code",
   "execution_count": 74,
   "id": "2c079021",
   "metadata": {},
   "outputs": [
    {
     "name": "stdout",
     "output_type": "stream",
     "text": [
      "<class 'dict'>\n"
     ]
    }
   ],
   "source": [
    "print(type(univ_dict))"
   ]
  },
  {
   "cell_type": "code",
   "execution_count": 75,
   "id": "62c9e084",
   "metadata": {},
   "outputs": [
    {
     "name": "stdout",
     "output_type": "stream",
     "text": [
      "{'univ': 'Chitkara', 'city': ['Banur', 'Rajpura', 'Chandigarh'], 'year': 2009}\n"
     ]
    }
   ],
   "source": [
    "# The values in dictionary items can be of any data type:\n",
    "univ_dict = {\n",
    "  \"univ\": \"Chitkara\",\n",
    "  \"city\": [\"Banur\",\"Rajpura\",\"Chandigarh\"],\n",
    "  \"year\": 2009,\n",
    "}\n",
    "print(univ_dict)"
   ]
  },
  {
   "cell_type": "code",
   "execution_count": 76,
   "id": "43d2c06f",
   "metadata": {},
   "outputs": [
    {
     "name": "stdout",
     "output_type": "stream",
     "text": [
      "Chitkara\n"
     ]
    }
   ],
   "source": [
    "# You can access the items of a dictionary by referring to its key name, inside square brackets:\n",
    "x=univ_dict[\"univ\"]\n",
    "print(x)"
   ]
  },
  {
   "cell_type": "code",
   "execution_count": 77,
   "id": "caf61359",
   "metadata": {},
   "outputs": [
    {
     "name": "stdout",
     "output_type": "stream",
     "text": [
      "2009\n"
     ]
    }
   ],
   "source": [
    "# get method\n",
    "x=univ_dict.get(\"year\")\n",
    "print(x)"
   ]
  },
  {
   "cell_type": "code",
   "execution_count": 80,
   "id": "abbdf49b",
   "metadata": {},
   "outputs": [
    {
     "name": "stdout",
     "output_type": "stream",
     "text": [
      "dict_keys(['univ', 'city', 'year'])\n"
     ]
    }
   ],
   "source": [
    "# The keys() method will return a list of all the keys in the dictionary.\n",
    "univ_dict = {\n",
    "  \"univ\": \"Chitkara\",\n",
    "  \"city\": [\"Banur\",\"Rajpura\",\"Chandigarh\"],\n",
    "  \"year\": 2009,\n",
    "}\n",
    "x=univ_dict.keys()\n",
    "print(x)"
   ]
  },
  {
   "cell_type": "code",
   "execution_count": 98,
   "id": "93a80735",
   "metadata": {},
   "outputs": [
    {
     "name": "stdout",
     "output_type": "stream",
     "text": [
      "dict_keys(['univ', 'city', 'year'])\n",
      "dict_keys(['univ', 'city', 'year', 'looks'])\n"
     ]
    }
   ],
   "source": [
    "# Add item in dictionary\n",
    "univ_dict = {\n",
    "  \"univ\": \"Chitkara\",\n",
    "  \"city\": [\"Banur\",\"Rajpura\",\"Chandigarh\"],\n",
    "  \"year\": 2009,\n",
    "}\n",
    "print(univ_dict.keys())\n",
    "\n",
    "univ_dict[\"looks\"]=\"beautiful\" # Adding item in dictionary\n",
    "print(univ_dict.keys())"
   ]
  },
  {
   "cell_type": "code",
   "execution_count": 99,
   "id": "f56dc370",
   "metadata": {},
   "outputs": [
    {
     "name": "stdout",
     "output_type": "stream",
     "text": [
      "dict_values(['Chitkara', ['Banur', 'Rajpura', 'Chandigarh'], 2009, 'beautiful'])\n"
     ]
    }
   ],
   "source": [
    "# The values() method will return a list of all the values in the dictionary.\n",
    "val=univ_dict.values()\n",
    "print(val)"
   ]
  },
  {
   "cell_type": "code",
   "execution_count": 83,
   "id": "a98bceba",
   "metadata": {},
   "outputs": [
    {
     "name": "stdout",
     "output_type": "stream",
     "text": [
      "dict_values(['Chitkara', ['Banur', 'Rajpura', 'Chandigarh'], 2009])\n",
      "dict_values(['Chitkara', ['Banur', 'Rajpura', 'Chandigarh'], 2009, 'beautiful'])\n"
     ]
    }
   ],
   "source": [
    "univ_dict = {\n",
    "  \"univ\": \"Chitkara\",\n",
    "  \"city\": [\"Banur\",\"Rajpura\",\"Chandigarh\"],\n",
    "  \"year\": 2009,\n",
    "}\n",
    "print(univ_dict.values())\n",
    "univ_dict[\"looks\"]=\"beautiful\"\n",
    "print(univ_dict.values())"
   ]
  },
  {
   "cell_type": "code",
   "execution_count": 84,
   "id": "e5a3a7a1",
   "metadata": {},
   "outputs": [
    {
     "name": "stdout",
     "output_type": "stream",
     "text": [
      "dict_items([('univ', 'Chitkara'), ('city', 'Banur'), ('year', 2009)])\n"
     ]
    }
   ],
   "source": [
    "# The items() method will return each item in a dictionary, as tuples in a list.\n",
    "univ_dict = {\n",
    "  \"univ\": \"Chitkara\",\n",
    "  \"city\": \"Banur\",\n",
    "  \"year\": 2009,\n",
    "}\n",
    "i=univ_dict.items()\n",
    "print(i)"
   ]
  },
  {
   "cell_type": "code",
   "execution_count": 108,
   "id": "54cdee44",
   "metadata": {},
   "outputs": [
    {
     "name": "stdout",
     "output_type": "stream",
     "text": [
      "Key exists\n"
     ]
    }
   ],
   "source": [
    "# Check if Key Exists\n",
    "univ_dict = {\n",
    "  \"univ\": \"Chitkara\",\n",
    "  \"city\": \"Banur\",\n",
    "  \"year\": 2009,\n",
    "}\n",
    "\n",
    "if \"city\" in univ_dict:\n",
    "    print(\"Key exists\")"
   ]
  },
  {
   "cell_type": "code",
   "execution_count": 109,
   "id": "b69ba034",
   "metadata": {},
   "outputs": [
    {
     "name": "stdout",
     "output_type": "stream",
     "text": [
      "{'univ': 'Chitkara', 'city': 'Banur', 'year': 2009}\n",
      "{'univ': 'Chitkara', 'city': 'Banur', 'year': 2018}\n"
     ]
    }
   ],
   "source": [
    "# Change Values\n",
    "univ_dict = {\n",
    "  \"univ\": \"Chitkara\",\n",
    "  \"city\": \"Banur\",\n",
    "  \"year\": 2009,\n",
    "}\n",
    "print(univ_dict)\n",
    "univ_dict[\"year\"]=2018 # Change\n",
    "print(univ_dict)"
   ]
  },
  {
   "cell_type": "code",
   "execution_count": 26,
   "id": "da6d68ec",
   "metadata": {},
   "outputs": [],
   "source": [
    "# The update() method will update the dictionary with the items from the given argument.\n",
    "\n",
    "# The argument must be a dictionary, or an iterable object with key:value pairs."
   ]
  },
  {
   "cell_type": "code",
   "execution_count": 110,
   "id": "5199ded6",
   "metadata": {},
   "outputs": [
    {
     "name": "stdout",
     "output_type": "stream",
     "text": [
      "{'univ': 'Chitkara', 'city': 'Banur', 'year': 2009, 'course': 'CSE'}\n"
     ]
    }
   ],
   "source": [
    "univ_dict = {\n",
    "  \"univ\": \"Chitkara\",\n",
    "  \"city\": \"Banur\",\n",
    "  \"year\": 2009,\n",
    "}\n",
    "\n",
    "univ_dict.update({\"course\":\"CSE\"})\n",
    "print(univ_dict)"
   ]
  },
  {
   "cell_type": "code",
   "execution_count": 111,
   "id": "3f1862b9",
   "metadata": {},
   "outputs": [
    {
     "name": "stdout",
     "output_type": "stream",
     "text": [
      "{'univ': 'Chitkara', 'year': 2009}\n"
     ]
    }
   ],
   "source": [
    "# The pop() method removes the item with the specified key name:\n",
    "univ_dict = {\n",
    "  \"univ\": \"Chitkara\",\n",
    "  \"city\": \"Banur\",\n",
    "  \"year\": 2009,\n",
    "}\n",
    "\n",
    "univ_dict.pop(\"city\")\n",
    "print(univ_dict)"
   ]
  },
  {
   "cell_type": "code",
   "execution_count": 112,
   "id": "99e38559",
   "metadata": {},
   "outputs": [
    {
     "name": "stdout",
     "output_type": "stream",
     "text": [
      "{'univ': 'Chitkara'}\n"
     ]
    }
   ],
   "source": [
    "# The popitem() method removes the last inserted item\n",
    "univ_dict.popitem()\n",
    "print(univ_dict)"
   ]
  },
  {
   "cell_type": "code",
   "execution_count": 114,
   "id": "51e6cc04",
   "metadata": {},
   "outputs": [
    {
     "name": "stdout",
     "output_type": "stream",
     "text": [
      "{'city': 'Banur', 'year': 2009}\n"
     ]
    }
   ],
   "source": [
    "# The del keyword removes the item with the specified key name:\n",
    "univ_dict = {\n",
    "  \"univ\": \"Chitkara\",\n",
    "  \"city\": \"Banur\",\n",
    "  \"year\": 2009,\n",
    "}\n",
    "del univ_dict[\"univ\"]\n",
    "print(univ_dict)"
   ]
  },
  {
   "cell_type": "code",
   "execution_count": 116,
   "id": "ee57cf12",
   "metadata": {},
   "outputs": [],
   "source": [
    "# The del keyword can also delete the dictionary completely:\n",
    "univ_dict = {\n",
    "  \"univ\": \"Chitkara\",\n",
    "  \"city\": \"Banur\",\n",
    "  \"year\": 2009,\n",
    "}\n",
    "del univ_dict\n"
   ]
  },
  {
   "cell_type": "code",
   "execution_count": 117,
   "id": "ebba3a4d",
   "metadata": {},
   "outputs": [
    {
     "ename": "NameError",
     "evalue": "name 'univ_dict' is not defined",
     "output_type": "error",
     "traceback": [
      "\u001b[1;31m---------------------------------------------------------------------------\u001b[0m",
      "\u001b[1;31mNameError\u001b[0m                                 Traceback (most recent call last)",
      "\u001b[1;32m<ipython-input-117-6ff76f8cf913>\u001b[0m in \u001b[0;36m<module>\u001b[1;34m\u001b[0m\n\u001b[1;32m----> 1\u001b[1;33m \u001b[0mprint\u001b[0m\u001b[1;33m(\u001b[0m\u001b[0muniv_dict\u001b[0m\u001b[1;33m)\u001b[0m\u001b[1;33m\u001b[0m\u001b[1;33m\u001b[0m\u001b[0m\n\u001b[0m",
      "\u001b[1;31mNameError\u001b[0m: name 'univ_dict' is not defined"
     ]
    }
   ],
   "source": [
    "print(univ_dict)"
   ]
  },
  {
   "cell_type": "code",
   "execution_count": 118,
   "id": "f4330ae3",
   "metadata": {},
   "outputs": [
    {
     "name": "stdout",
     "output_type": "stream",
     "text": [
      "{}\n"
     ]
    }
   ],
   "source": [
    "# The clear() method empties the dictionary:\n",
    "univ_dict = {\n",
    "  \"univ\": \"Chitkara\",\n",
    "  \"city\": \"Banur\",\n",
    "  \"year\": 2009,\n",
    "}\n",
    "univ_dict.clear()\n",
    "print(univ_dict)"
   ]
  },
  {
   "cell_type": "code",
   "execution_count": 119,
   "id": "bbf1289f",
   "metadata": {},
   "outputs": [
    {
     "name": "stdout",
     "output_type": "stream",
     "text": [
      "univ\n",
      "city\n",
      "year\n",
      "Chitkara\n",
      "Banur\n",
      "2009\n"
     ]
    }
   ],
   "source": [
    "# Loop Through a Dictionary\n",
    "univ_dict = {\n",
    "  \"univ\": \"Chitkara\",\n",
    "  \"city\": \"Banur\",\n",
    "  \"year\": 2009,\n",
    "}\n",
    "# KEYS\n",
    "for x in univ_dict:\n",
    "  print(x)\n",
    "\n",
    "# VALUES\n",
    "for i in univ_dict:\n",
    "    print(univ_dict[i])"
   ]
  },
  {
   "cell_type": "code",
   "execution_count": 120,
   "id": "4c44e602",
   "metadata": {},
   "outputs": [
    {
     "name": "stdout",
     "output_type": "stream",
     "text": [
      "univ\n",
      "city\n",
      "year\n"
     ]
    }
   ],
   "source": [
    "# You can also use the keys() method \n",
    "for x in univ_dict.keys():\n",
    "    print(x)"
   ]
  },
  {
   "cell_type": "code",
   "execution_count": 121,
   "id": "1ac02b66",
   "metadata": {},
   "outputs": [
    {
     "name": "stdout",
     "output_type": "stream",
     "text": [
      "Chitkara\n",
      "Banur\n",
      "2009\n"
     ]
    }
   ],
   "source": [
    "# You can also use the values() method \n",
    "for val in univ_dict.values():\n",
    "    print(val)"
   ]
  },
  {
   "cell_type": "code",
   "execution_count": 122,
   "id": "dfff82cc",
   "metadata": {},
   "outputs": [
    {
     "name": "stdout",
     "output_type": "stream",
     "text": [
      "univ Chitkara\n",
      "city Banur\n",
      "year 2009\n"
     ]
    }
   ],
   "source": [
    "# Loop through both keys and values, by using the items() method:\n",
    "for x, y in univ_dict.items():\n",
    "  print(x, y)"
   ]
  },
  {
   "cell_type": "code",
   "execution_count": 126,
   "id": "10886507",
   "metadata": {},
   "outputs": [
    {
     "name": "stdout",
     "output_type": "stream",
     "text": [
      "{'univ': 'Chitkara', 'city': 'Banur', 'year': 2009}\n",
      "{'univ': 'Chitkara', 'city': 'Banur', 'year': 2009}\n",
      "{'univ': 'Chitkara', 'city': 'Banur', 'year': 2009, 'looks': 'beautiful'}\n",
      "{'univ': 'Chitkara', 'city': 'Banur', 'year': 2009, 'looks': 'beautiful'}\n"
     ]
    }
   ],
   "source": [
    "univ_dict1 = {\n",
    "  \"univ\": \"Chitkara\",\n",
    "  \"city\": \"Banur\",\n",
    "  \"year\": 2009,\n",
    "}\n",
    "\n",
    "univ_dict2=univ_dict1  # Reference to univ_dict1\n",
    "\n",
    "print(univ_dict1)\n",
    "print(univ_dict2)\n",
    "\n",
    "univ_dict1[\"looks\"]=\"beautiful\" # Adding item in dictionary\n",
    "\n",
    "print(univ_dict1)\n",
    "print(univ_dict2)\n"
   ]
  },
  {
   "cell_type": "code",
   "execution_count": 41,
   "id": "fcafccd8",
   "metadata": {},
   "outputs": [],
   "source": [
    "# Copy a Dictionary\n",
    "\n",
    "# univ_dict2=univ_dict1 will not copy dictionary as this is just a refrence\n",
    "# It means any change in univ_dict1 will be reflected in univ_dict2\n",
    "# Use copy() method for copying dictionaries or dict() function"
   ]
  },
  {
   "cell_type": "code",
   "execution_count": 127,
   "id": "d96f67c8",
   "metadata": {},
   "outputs": [
    {
     "name": "stdout",
     "output_type": "stream",
     "text": [
      "{'univ': 'Chitkara', 'city': 'Banur', 'year': 2009}\n"
     ]
    }
   ],
   "source": [
    "univ_dict = {\n",
    "  \"univ\": \"Chitkara\",\n",
    "  \"city\": \"Banur\",\n",
    "  \"year\": 2009,\n",
    "}\n",
    "\n",
    "copy_dict=univ_dict.copy()\n",
    "print(copy_dict)"
   ]
  },
  {
   "cell_type": "code",
   "execution_count": 128,
   "id": "4196b8ac",
   "metadata": {},
   "outputs": [
    {
     "name": "stdout",
     "output_type": "stream",
     "text": [
      "{'univ': 'Chitkara', 'city': 'Banur', 'year': 2009}\n",
      "{'univ': 'Chitkara', 'city': 'Banur', 'year': 2009}\n",
      "{'univ': 'Chitkara', 'city': 'Banur', 'year': 2009, 'looks': 'beautiful'}\n",
      "{'univ': 'Chitkara', 'city': 'Banur', 'year': 2009}\n"
     ]
    }
   ],
   "source": [
    "univ_dict1 = {\n",
    "  \"univ\": \"Chitkara\",\n",
    "  \"city\": \"Banur\",\n",
    "  \"year\": 2009,\n",
    "}\n",
    "univ_dict2=univ_dict1.copy() \n",
    "\n",
    "print(univ_dict1)\n",
    "print(univ_dict2)\n",
    "\n",
    "univ_dict1[\"looks\"]=\"beautiful\" # Adding item in dictionary\n",
    "\n",
    "print(univ_dict1)\n",
    "print(univ_dict2)\n"
   ]
  },
  {
   "cell_type": "code",
   "execution_count": 43,
   "id": "80008a44",
   "metadata": {},
   "outputs": [
    {
     "name": "stdout",
     "output_type": "stream",
     "text": [
      "{'univ': 'Chitkara', 'city': 'Banur', 'year': 2009}\n"
     ]
    }
   ],
   "source": [
    "second_dict=dict(univ_dict)\n",
    "print(second_dict)"
   ]
  },
  {
   "cell_type": "code",
   "execution_count": 129,
   "id": "2240de72",
   "metadata": {},
   "outputs": [
    {
     "name": "stdout",
     "output_type": "stream",
     "text": [
      "{'univ': 'Chitkara', 'city': 'Banur', 'year': 2009}\n",
      "{'univ': 'Chitkara', 'city': 'Banur', 'year': 2009}\n",
      "{'univ': 'Chitkara', 'city': 'Banur', 'year': 2009, 'looks': 'beautiful'}\n",
      "{'univ': 'Chitkara', 'city': 'Banur', 'year': 2009}\n"
     ]
    }
   ],
   "source": [
    "univ_dict1 = {\n",
    "  \"univ\": \"Chitkara\",\n",
    "  \"city\": \"Banur\",\n",
    "  \"year\": 2009,\n",
    "}\n",
    "univ_dict2=dict(univ_dict1) \n",
    "\n",
    "print(univ_dict1)\n",
    "print(univ_dict2)\n",
    "\n",
    "univ_dict1[\"looks\"]=\"beautiful\" # Adding item in dictionary\n",
    "\n",
    "print(univ_dict1)\n",
    "print(univ_dict2)\n"
   ]
  },
  {
   "cell_type": "code",
   "execution_count": 44,
   "id": "c70fc0f5",
   "metadata": {},
   "outputs": [],
   "source": [
    "# Nested Dictionary\n",
    "courses = {\n",
    "  \"BE\" : {\n",
    "    \"CSE\" : \"great\",\n",
    "    \"years\" : 4\n",
    "  },\n",
    "  \"IT\" : {\n",
    "    \"MCA\" : \"good\",\n",
    "    \"years\" : 3\n",
    "  },\n",
    "  \"Management\" : {\n",
    "    \"MBA\" : \"nice\",\n",
    "    \"years\" : 2\n",
    "  }\n",
    "}"
   ]
  },
  {
   "cell_type": "code",
   "execution_count": 45,
   "id": "465ee031",
   "metadata": {},
   "outputs": [
    {
     "name": "stdout",
     "output_type": "stream",
     "text": [
      "{'BE': {'CSE': 'great', 'years': 4}, 'IT': {'MCA': 'good', 'years': 3}, 'Management': {'MBA': 'nice', 'years': 2}}\n"
     ]
    }
   ],
   "source": [
    "print(courses)"
   ]
  },
  {
   "cell_type": "code",
   "execution_count": 46,
   "id": "8d91f05a",
   "metadata": {},
   "outputs": [
    {
     "name": "stdout",
     "output_type": "stream",
     "text": [
      "dict_keys(['BE', 'IT', 'Management'])\n"
     ]
    }
   ],
   "source": [
    "print(courses.keys())"
   ]
  },
  {
   "cell_type": "code",
   "execution_count": 47,
   "id": "d0002c94",
   "metadata": {},
   "outputs": [
    {
     "name": "stdout",
     "output_type": "stream",
     "text": [
      "dict_values([{'CSE': 'great', 'years': 4}, {'MCA': 'good', 'years': 3}, {'MBA': 'nice', 'years': 2}])\n"
     ]
    }
   ],
   "source": [
    "print(courses.values())"
   ]
  },
  {
   "cell_type": "code",
   "execution_count": 52,
   "id": "2ab24df1",
   "metadata": {},
   "outputs": [],
   "source": [
    "# Next nesting\n",
    "BE = {\n",
    "    \"CSE\" : \"great\",\n",
    "    \"years\" : 4\n",
    "  }\n",
    "IT = {\n",
    "    \"MCA\" : \"good\",\n",
    "    \"years\" : 3\n",
    "  }\n",
    "Management = {\n",
    "    \"MBA\" : \"nice\",\n",
    "    \"years\" : 2\n",
    "  }\n",
    "\n",
    "courses = {\n",
    "\"BE\":BE,\n",
    "\"IT\":IT,\n",
    "\"Management\":Management\n",
    "}\n",
    "\n"
   ]
  },
  {
   "cell_type": "code",
   "execution_count": 53,
   "id": "54d3370b",
   "metadata": {},
   "outputs": [
    {
     "name": "stdout",
     "output_type": "stream",
     "text": [
      "{'BE': {'CSE': 'great', 'years': 4}, 'IT': {'MCA': 'good', 'years': 3}, 'Management': {'MBA': 'nice', 'years': 2}}\n"
     ]
    }
   ],
   "source": [
    "print(courses)"
   ]
  },
  {
   "cell_type": "code",
   "execution_count": null,
   "id": "8fd3ca21",
   "metadata": {},
   "outputs": [],
   "source": []
  }
 ],
 "metadata": {
  "kernelspec": {
   "display_name": "Python 3",
   "language": "python",
   "name": "python3"
  },
  "language_info": {
   "codemirror_mode": {
    "name": "ipython",
    "version": 3
   },
   "file_extension": ".py",
   "mimetype": "text/x-python",
   "name": "python",
   "nbconvert_exporter": "python",
   "pygments_lexer": "ipython3",
   "version": "3.8.8"
  }
 },
 "nbformat": 4,
 "nbformat_minor": 5
}
