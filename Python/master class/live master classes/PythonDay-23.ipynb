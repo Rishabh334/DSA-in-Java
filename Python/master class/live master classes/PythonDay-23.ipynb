{
 "cells": [
  {
   "cell_type": "code",
   "execution_count": 15,
   "id": "c308c772",
   "metadata": {},
   "outputs": [
    {
     "name": "stdout",
     "output_type": "stream",
     "text": [
      "7\n",
      "[1, 2, 3, 4, 5]\n"
     ]
    }
   ],
   "source": [
    "def bubbleSort(a):\n",
    "    a_len = len(a)\n",
    "    count=0\n",
    "    for i in range(0, a_len-1, 1):\n",
    "        flag=0\n",
    "        for j in range(a_len-1-i):\n",
    "            count=count+1\n",
    "            if a[j] > a[j + 1]:\n",
    "                a[j], a[j + 1] = a[j + 1], a[j]\n",
    "                flag=20\n",
    "        if flag==0:\n",
    "            break\n",
    "    print(count)\n",
    "    return a\n",
    "\n",
    "\n",
    "print(bubbleSort(a=[1,2,3,4,5]))\n"
   ]
  },
  {
   "cell_type": "code",
   "execution_count": null,
   "id": "207d9145",
   "metadata": {},
   "outputs": [],
   "source": []
  }
 ],
 "metadata": {
  "kernelspec": {
   "display_name": "Python 3",
   "language": "python",
   "name": "python3"
  },
  "language_info": {
   "codemirror_mode": {
    "name": "ipython",
    "version": 3
   },
   "file_extension": ".py",
   "mimetype": "text/x-python",
   "name": "python",
   "nbconvert_exporter": "python",
   "pygments_lexer": "ipython3",
   "version": "3.8.8"
  }
 },
 "nbformat": 4,
 "nbformat_minor": 5
}
