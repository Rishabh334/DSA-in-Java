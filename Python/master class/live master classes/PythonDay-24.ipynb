{
 "cells": [
  {
   "cell_type": "code",
   "execution_count": 1,
   "id": "f4cdcffa",
   "metadata": {},
   "outputs": [],
   "source": [
    "#  SETS\n",
    "# unordered, unindexed, do not allow duplicates, unchangeable"
   ]
  },
  {
   "cell_type": "code",
   "execution_count": 2,
   "id": "8718d981",
   "metadata": {},
   "outputs": [],
   "source": [
    "# created with {}\n",
    "# mixed data types"
   ]
  },
  {
   "cell_type": "code",
   "execution_count": 7,
   "id": "ccc6868f",
   "metadata": {},
   "outputs": [
    {
     "name": "stdout",
     "output_type": "stream",
     "text": [
      "{'blue', 'red', 'black', 'green'}\n"
     ]
    }
   ],
   "source": [
    "a_set={\"red\",\"green\",\"blue\",\"green\",\"black\",\"red\"}\n",
    "print(a_set)"
   ]
  },
  {
   "cell_type": "code",
   "execution_count": 8,
   "id": "a92e212f",
   "metadata": {},
   "outputs": [
    {
     "name": "stdout",
     "output_type": "stream",
     "text": [
      "4\n"
     ]
    }
   ],
   "source": [
    "print(len(a_set))"
   ]
  },
  {
   "cell_type": "code",
   "execution_count": 9,
   "id": "df7e8439",
   "metadata": {},
   "outputs": [
    {
     "name": "stdout",
     "output_type": "stream",
     "text": [
      "<class 'set'>\n"
     ]
    }
   ],
   "source": [
    "print(type(a_set))"
   ]
  },
  {
   "cell_type": "code",
   "execution_count": 11,
   "id": "a50e08a3",
   "metadata": {},
   "outputs": [
    {
     "ename": "TypeError",
     "evalue": "'set' object is not subscriptable",
     "output_type": "error",
     "traceback": [
      "\u001b[1;31m---------------------------------------------------------------------------\u001b[0m",
      "\u001b[1;31mTypeError\u001b[0m                                 Traceback (most recent call last)",
      "\u001b[1;32m<ipython-input-11-9ac0d69fb8ad>\u001b[0m in \u001b[0;36m<module>\u001b[1;34m\u001b[0m\n\u001b[1;32m----> 1\u001b[1;33m \u001b[0mprint\u001b[0m\u001b[1;33m(\u001b[0m\u001b[0ma_set\u001b[0m\u001b[1;33m[\u001b[0m\u001b[1;36m2\u001b[0m\u001b[1;33m]\u001b[0m\u001b[1;33m)\u001b[0m\u001b[1;33m\u001b[0m\u001b[1;33m\u001b[0m\u001b[0m\n\u001b[0m",
      "\u001b[1;31mTypeError\u001b[0m: 'set' object is not subscriptable"
     ]
    }
   ],
   "source": [
    "print(a_set[2])"
   ]
  },
  {
   "cell_type": "code",
   "execution_count": 15,
   "id": "95fb94fd",
   "metadata": {},
   "outputs": [
    {
     "name": "stdout",
     "output_type": "stream",
     "text": [
      "{'whilte', 123, 'great'}\n"
     ]
    }
   ],
   "source": [
    "b_set=set((\"whilte\",123,\"great\"))\n",
    "print(b_set)"
   ]
  },
  {
   "cell_type": "code",
   "execution_count": 13,
   "id": "4b99d992",
   "metadata": {},
   "outputs": [
    {
     "name": "stdout",
     "output_type": "stream",
     "text": [
      "<class 'set'>\n"
     ]
    }
   ],
   "source": [
    "print(type(b_set))"
   ]
  },
  {
   "cell_type": "code",
   "execution_count": 44,
   "id": "4a1c38e0",
   "metadata": {},
   "outputs": [],
   "source": [
    "a_set={\"red\",\"green\",\"blue\",\"green\",\"black\",\"red\"}"
   ]
  },
  {
   "cell_type": "code",
   "execution_count": 45,
   "id": "c231e01d",
   "metadata": {},
   "outputs": [
    {
     "name": "stdout",
     "output_type": "stream",
     "text": [
      "blue\n",
      "red\n",
      "black\n",
      "green\n"
     ]
    }
   ],
   "source": [
    "for x in a_set:\n",
    "    print(x)"
   ]
  },
  {
   "cell_type": "code",
   "execution_count": 18,
   "id": "6f112416",
   "metadata": {},
   "outputs": [
    {
     "name": "stdout",
     "output_type": "stream",
     "text": [
      "True\n"
     ]
    }
   ],
   "source": [
    "print(\"blue\" in a_set)"
   ]
  },
  {
   "cell_type": "code",
   "execution_count": 19,
   "id": "c9e08a5e",
   "metadata": {},
   "outputs": [
    {
     "name": "stdout",
     "output_type": "stream",
     "text": [
      "False\n"
     ]
    }
   ],
   "source": [
    "print(\"diamond\" in a_set)"
   ]
  },
  {
   "cell_type": "code",
   "execution_count": 40,
   "id": "7b2e95ab",
   "metadata": {},
   "outputs": [
    {
     "name": "stdout",
     "output_type": "stream",
     "text": [
      "set()\n"
     ]
    }
   ],
   "source": [
    "c_set=set()\n",
    "print(c_set)"
   ]
  },
  {
   "cell_type": "code",
   "execution_count": 41,
   "id": "4d778edd",
   "metadata": {},
   "outputs": [
    {
     "name": "stdout",
     "output_type": "stream",
     "text": [
      "<class 'set'>\n"
     ]
    }
   ],
   "source": [
    "print(type(c_set))"
   ]
  },
  {
   "cell_type": "code",
   "execution_count": 42,
   "id": "27bdf8e1",
   "metadata": {},
   "outputs": [],
   "source": [
    "c_set.add(\"orange\")"
   ]
  },
  {
   "cell_type": "code",
   "execution_count": 43,
   "id": "2d02cace",
   "metadata": {},
   "outputs": [
    {
     "name": "stdout",
     "output_type": "stream",
     "text": [
      "{'orange'}\n"
     ]
    }
   ],
   "source": [
    "print(c_set)"
   ]
  },
  {
   "cell_type": "code",
   "execution_count": 39,
   "id": "0193e073",
   "metadata": {},
   "outputs": [
    {
     "name": "stdout",
     "output_type": "stream",
     "text": [
      "<class 'set'>\n"
     ]
    }
   ],
   "source": [
    "print(type(c_set))"
   ]
  },
  {
   "cell_type": "code",
   "execution_count": 46,
   "id": "c994e35e",
   "metadata": {},
   "outputs": [
    {
     "name": "stdout",
     "output_type": "stream",
     "text": [
      "{1, 2, 3, 'def', 'ghi', 'abc'}\n",
      "{1, 2, 3}\n"
     ]
    }
   ],
   "source": [
    "d_set={\"abc\",\"def\",\"ghi\"}\n",
    "e_set={1,2,3}\n",
    "d_set.update(e_set)\n",
    "print(d_set)\n",
    "print(e_set)"
   ]
  },
  {
   "cell_type": "code",
   "execution_count": 47,
   "id": "6759d378",
   "metadata": {},
   "outputs": [
    {
     "name": "stdout",
     "output_type": "stream",
     "text": [
      "{'pqr', 1, 2, 3, 'def', 'ghi', 'abc'}\n"
     ]
    }
   ],
   "source": [
    "d_set.add(\"pqr\")\n",
    "print(d_set)"
   ]
  },
  {
   "cell_type": "code",
   "execution_count": 48,
   "id": "976340b7",
   "metadata": {},
   "outputs": [
    {
     "ename": "AttributeError",
     "evalue": "'set' object has no attribute 'append'",
     "output_type": "error",
     "traceback": [
      "\u001b[1;31m---------------------------------------------------------------------------\u001b[0m",
      "\u001b[1;31mAttributeError\u001b[0m                            Traceback (most recent call last)",
      "\u001b[1;32m<ipython-input-48-28cb98399eda>\u001b[0m in \u001b[0;36m<module>\u001b[1;34m\u001b[0m\n\u001b[1;32m----> 1\u001b[1;33m \u001b[0md_set\u001b[0m\u001b[1;33m.\u001b[0m\u001b[0mappend\u001b[0m\u001b[1;33m(\u001b[0m\u001b[1;34m\"stu\"\u001b[0m\u001b[1;33m)\u001b[0m\u001b[1;33m\u001b[0m\u001b[1;33m\u001b[0m\u001b[0m\n\u001b[0m",
      "\u001b[1;31mAttributeError\u001b[0m: 'set' object has no attribute 'append'"
     ]
    }
   ],
   "source": [
    "d_set.append(\"stu\")"
   ]
  },
  {
   "cell_type": "code",
   "execution_count": 49,
   "id": "242546eb",
   "metadata": {},
   "outputs": [
    {
     "name": "stdout",
     "output_type": "stream",
     "text": [
      "{'pqr', 1, 2, 3, 'def', 'ghi', 'abc'}\n"
     ]
    }
   ],
   "source": [
    "print(d_set)"
   ]
  },
  {
   "cell_type": "code",
   "execution_count": 50,
   "id": "a7824518",
   "metadata": {},
   "outputs": [],
   "source": [
    "d_set.add(\"pqr\")"
   ]
  },
  {
   "cell_type": "code",
   "execution_count": 51,
   "id": "e794d3f0",
   "metadata": {},
   "outputs": [
    {
     "name": "stdout",
     "output_type": "stream",
     "text": [
      "{'pqr', 1, 2, 3, 'def', 'ghi', 'abc'}\n"
     ]
    }
   ],
   "source": [
    "print(d_set)"
   ]
  },
  {
   "cell_type": "code",
   "execution_count": 52,
   "id": "6027d137",
   "metadata": {},
   "outputs": [],
   "source": [
    "d_set.remove(\"abc\")"
   ]
  },
  {
   "cell_type": "code",
   "execution_count": 53,
   "id": "e325c75f",
   "metadata": {},
   "outputs": [
    {
     "name": "stdout",
     "output_type": "stream",
     "text": [
      "{'pqr', 1, 2, 3, 'def', 'ghi'}\n"
     ]
    }
   ],
   "source": [
    "print(d_set)"
   ]
  },
  {
   "cell_type": "code",
   "execution_count": 55,
   "id": "ea1d8eef",
   "metadata": {},
   "outputs": [
    {
     "ename": "KeyError",
     "evalue": "'stu'",
     "output_type": "error",
     "traceback": [
      "\u001b[1;31m---------------------------------------------------------------------------\u001b[0m",
      "\u001b[1;31mKeyError\u001b[0m                                  Traceback (most recent call last)",
      "\u001b[1;32m<ipython-input-55-4bfefe799ac1>\u001b[0m in \u001b[0;36m<module>\u001b[1;34m\u001b[0m\n\u001b[1;32m----> 1\u001b[1;33m \u001b[0md_set\u001b[0m\u001b[1;33m.\u001b[0m\u001b[0mremove\u001b[0m\u001b[1;33m(\u001b[0m\u001b[1;34m\"stu\"\u001b[0m\u001b[1;33m)\u001b[0m\u001b[1;33m\u001b[0m\u001b[1;33m\u001b[0m\u001b[0m\n\u001b[0m",
      "\u001b[1;31mKeyError\u001b[0m: 'stu'"
     ]
    }
   ],
   "source": [
    "d_set.remove(\"stu\")"
   ]
  },
  {
   "cell_type": "code",
   "execution_count": 56,
   "id": "004de9cc",
   "metadata": {},
   "outputs": [
    {
     "name": "stdout",
     "output_type": "stream",
     "text": [
      "{'pqr', 1, 2, 3, 'def'}\n"
     ]
    }
   ],
   "source": [
    "d_set.discard(\"ghi\")\n",
    "print(d_set)"
   ]
  },
  {
   "cell_type": "code",
   "execution_count": 57,
   "id": "4792bdc5",
   "metadata": {},
   "outputs": [],
   "source": [
    "d_set.discard(\"stu\")"
   ]
  },
  {
   "cell_type": "code",
   "execution_count": 58,
   "id": "1e202f80",
   "metadata": {},
   "outputs": [
    {
     "name": "stdout",
     "output_type": "stream",
     "text": [
      "{'pqr', 1, 2, 3, 'def'}\n"
     ]
    }
   ],
   "source": [
    "print(d_set)"
   ]
  },
  {
   "cell_type": "code",
   "execution_count": 59,
   "id": "d5701521",
   "metadata": {},
   "outputs": [
    {
     "name": "stdout",
     "output_type": "stream",
     "text": [
      "pqr\n"
     ]
    }
   ],
   "source": [
    "print(d_set.pop())"
   ]
  },
  {
   "cell_type": "code",
   "execution_count": 60,
   "id": "4b240e63",
   "metadata": {},
   "outputs": [],
   "source": [
    "d_set.clear()"
   ]
  },
  {
   "cell_type": "code",
   "execution_count": 61,
   "id": "51ee3c30",
   "metadata": {},
   "outputs": [
    {
     "name": "stdout",
     "output_type": "stream",
     "text": [
      "set()\n"
     ]
    }
   ],
   "source": [
    "print(d_set)"
   ]
  },
  {
   "cell_type": "code",
   "execution_count": 62,
   "id": "fd9671b4",
   "metadata": {},
   "outputs": [
    {
     "name": "stdout",
     "output_type": "stream",
     "text": [
      "{1, 2, 3}\n"
     ]
    }
   ],
   "source": [
    "print(e_set)"
   ]
  },
  {
   "cell_type": "code",
   "execution_count": 63,
   "id": "bd840089",
   "metadata": {},
   "outputs": [],
   "source": [
    "del e_set"
   ]
  },
  {
   "cell_type": "code",
   "execution_count": 64,
   "id": "d93dc9b4",
   "metadata": {},
   "outputs": [
    {
     "ename": "NameError",
     "evalue": "name 'e_set' is not defined",
     "output_type": "error",
     "traceback": [
      "\u001b[1;31m---------------------------------------------------------------------------\u001b[0m",
      "\u001b[1;31mNameError\u001b[0m                                 Traceback (most recent call last)",
      "\u001b[1;32m<ipython-input-64-d91f9ba6bb31>\u001b[0m in \u001b[0;36m<module>\u001b[1;34m\u001b[0m\n\u001b[1;32m----> 1\u001b[1;33m \u001b[0mprint\u001b[0m\u001b[1;33m(\u001b[0m\u001b[0me_set\u001b[0m\u001b[1;33m)\u001b[0m\u001b[1;33m\u001b[0m\u001b[1;33m\u001b[0m\u001b[0m\n\u001b[0m",
      "\u001b[1;31mNameError\u001b[0m: name 'e_set' is not defined"
     ]
    }
   ],
   "source": [
    "print(e_set)"
   ]
  },
  {
   "cell_type": "code",
   "execution_count": 67,
   "id": "15921fea",
   "metadata": {},
   "outputs": [
    {
     "name": "stdout",
     "output_type": "stream",
     "text": [
      "{'pqr', 'stu', 'def', 'ghi', 'abc'}\n"
     ]
    }
   ],
   "source": [
    "g_set={\"abc\",\"def\",\"ghi\"}\n",
    "h_set={\"def\",\"pqr\",\"stu\"}\n",
    "print(g_set.union(h_set))"
   ]
  },
  {
   "cell_type": "code",
   "execution_count": 66,
   "id": "0fae2484",
   "metadata": {},
   "outputs": [
    {
     "name": "stdout",
     "output_type": "stream",
     "text": [
      "{'ghi', 'def', 'abc'}\n",
      "{'pqr', 'stu', 'def'}\n"
     ]
    }
   ],
   "source": [
    "print(g_set)\n",
    "print(h_set)"
   ]
  },
  {
   "cell_type": "code",
   "execution_count": 101,
   "id": "d9bd3dfb",
   "metadata": {},
   "outputs": [
    {
     "name": "stdout",
     "output_type": "stream",
     "text": [
      "{'def', 'abc'}\n"
     ]
    }
   ],
   "source": [
    "g_set={\"abc\",\"def\",\"prt\"}\n",
    "h_set={\"def\",\"abc\",\"ghi\",\"setr\"}\n",
    "g_set.intersection_update(h_set)\n",
    "print(g_set)"
   ]
  },
  {
   "cell_type": "code",
   "execution_count": 102,
   "id": "fce35b87",
   "metadata": {},
   "outputs": [
    {
     "name": "stdout",
     "output_type": "stream",
     "text": [
      "{3}\n",
      "{3, 4, 5}\n"
     ]
    }
   ],
   "source": [
    "x = {1,2,3}\n",
    "y = {3,4,5}\n",
    "x.intersection_update(y)\n",
    "print(x)\n",
    "print(y)"
   ]
  },
  {
   "cell_type": "code",
   "execution_count": 85,
   "id": "52b39b41",
   "metadata": {},
   "outputs": [
    {
     "name": "stdout",
     "output_type": "stream",
     "text": [
      "{'ghi', 'setr', 'def', 'abc'}\n"
     ]
    }
   ],
   "source": [
    "\n",
    "print(h_set)"
   ]
  },
  {
   "cell_type": "code",
   "execution_count": 107,
   "id": "c23203b7",
   "metadata": {},
   "outputs": [],
   "source": [
    "g_set={\"abc\",\"def\",\"ghi\"}\n",
    "h_set={\"def\",\"pqr\",\"stu\"}\n",
    "i_set=g_set.intersection(h_set)"
   ]
  },
  {
   "cell_type": "code",
   "execution_count": 110,
   "id": "95294838",
   "metadata": {},
   "outputs": [
    {
     "name": "stdout",
     "output_type": "stream",
     "text": [
      "{'def'}\n"
     ]
    }
   ],
   "source": [
    "print(i_set)"
   ]
  },
  {
   "cell_type": "code",
   "execution_count": 106,
   "id": "b7bbdc7a",
   "metadata": {},
   "outputs": [
    {
     "name": "stdout",
     "output_type": "stream",
     "text": [
      "{3}\n"
     ]
    }
   ],
   "source": [
    "x = {1,2,3}\n",
    "y = {3,4,5}\n",
    "i_set=x.intersection(y)\n",
    "print(i_set)"
   ]
  },
  {
   "cell_type": "code",
   "execution_count": 117,
   "id": "8d1fa665",
   "metadata": {},
   "outputs": [
    {
     "name": "stdout",
     "output_type": "stream",
     "text": [
      "{1, 2, 3, 5, 7, 8}\n",
      "{1, 2, 4, 7, 8}\n",
      "{3, 4, 5}\n"
     ]
    }
   ],
   "source": [
    "x = {1,2,7,8,4}\n",
    "y = {3,4,5}\n",
    "z=x.symmetric_difference(y)\n",
    "print(z)\n",
    "print(x)\n",
    "print(y)"
   ]
  },
  {
   "cell_type": "code",
   "execution_count": 120,
   "id": "c7502e38",
   "metadata": {},
   "outputs": [],
   "source": [
    "x = {1,2,7,8,4}\n",
    "y = {3,4,5}\n",
    "x.symmetric_difference_update(y)"
   ]
  },
  {
   "cell_type": "code",
   "execution_count": 121,
   "id": "ff4f9075",
   "metadata": {},
   "outputs": [
    {
     "name": "stdout",
     "output_type": "stream",
     "text": [
      "{1, 2, 3, 5, 7, 8}\n",
      "{3, 4, 5}\n"
     ]
    }
   ],
   "source": [
    "print(x)\n",
    "print(y)"
   ]
  },
  {
   "cell_type": "code",
   "execution_count": 124,
   "id": "5e222e38",
   "metadata": {},
   "outputs": [
    {
     "name": "stdout",
     "output_type": "stream",
     "text": [
      "{1, 2, 3, 4, 5, 7, 8}\n"
     ]
    }
   ],
   "source": [
    "x = {1,2,7,8,4}\n",
    "y = {3,4,5}\n",
    "print(x.union(y))"
   ]
  },
  {
   "cell_type": "code",
   "execution_count": 125,
   "id": "ef0eb8b6",
   "metadata": {},
   "outputs": [],
   "source": []
  },
  {
   "cell_type": "code",
   "execution_count": null,
   "id": "ea0d4e2c",
   "metadata": {},
   "outputs": [],
   "source": []
  }
 ],
 "metadata": {
  "kernelspec": {
   "display_name": "Python 3",
   "language": "python",
   "name": "python3"
  },
  "language_info": {
   "codemirror_mode": {
    "name": "ipython",
    "version": 3
   },
   "file_extension": ".py",
   "mimetype": "text/x-python",
   "name": "python",
   "nbconvert_exporter": "python",
   "pygments_lexer": "ipython3",
   "version": "3.8.8"
  }
 },
 "nbformat": 4,
 "nbformat_minor": 5
}
