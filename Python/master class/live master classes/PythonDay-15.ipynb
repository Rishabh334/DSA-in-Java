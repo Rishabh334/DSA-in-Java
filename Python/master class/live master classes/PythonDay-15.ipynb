{
 "cells": [
  {
   "cell_type": "code",
   "execution_count": null,
   "id": "1673d8d6",
   "metadata": {},
   "outputs": [],
   "source": [
    "# MAP\n",
    "\n",
    "#This function accepts another function and a sequence of ‘iterables’ as parameters \n",
    "# Gives output after applying the function to each iterable in the sequence. \n",
    "\n",
    "# SYNTAX: \n",
    "\n",
    "# map(function, iterables)\n",
    "\n",
    "# function argument can be user-defined function or lambda function\n",
    "\n",
    "\n",
    "\n",
    "\n",
    "\n",
    "\n",
    "\n",
    "\n",
    "\n",
    "\n",
    "\n"
   ]
  },
  {
   "cell_type": "code",
   "execution_count": 37,
   "id": "7ba47cb0",
   "metadata": {},
   "outputs": [
    {
     "name": "stdout",
     "output_type": "stream",
     "text": [
      "[5, 7, 9, 11]\n",
      "<map object at 0x0000020C387D9670>\n",
      "[5, 7, 9, 11]\n"
     ]
    }
   ],
   "source": [
    "# Using Normal Function\n",
    "def func1(x):\n",
    "        return x+3\n",
    "\n",
    "print(list(map(func1,[2,4,6,8])))\n",
    "#OR\n",
    "r1=map(func1,[2,4,6,8])\n",
    "print(r1)\n",
    "print(list(r1))"
   ]
  },
  {
   "cell_type": "code",
   "execution_count": 27,
   "id": "67705938",
   "metadata": {},
   "outputs": [
    {
     "name": "stdout",
     "output_type": "stream",
     "text": [
      "<map object at 0x0000020C3871EF40>\n",
      "[5, 7, 9, 11]\n"
     ]
    }
   ],
   "source": [
    "# Using Lambda functions\n",
    "r2=map(lambda x:x+3,[2,4,6,8])\n",
    "print(r2)\n",
    "print(list(r2))"
   ]
  },
  {
   "cell_type": "code",
   "execution_count": null,
   "id": "7c650b2d",
   "metadata": {},
   "outputs": [],
   "source": [
    "#FILTER\n",
    "\n",
    "#THis is used to generate an output list of values that return true \n",
    "# when the function is called\n",
    "\n",
    "# SYNTAX\n",
    "# filter (function, iterables)"
   ]
  },
  {
   "cell_type": "code",
   "execution_count": 30,
   "id": "b7451899",
   "metadata": {},
   "outputs": [
    {
     "name": "stdout",
     "output_type": "stream",
     "text": [
      "<filter object at 0x0000020C3871ED00>\n",
      "[6, 8]\n"
     ]
    }
   ],
   "source": [
    "#USING NOrmal Functions\n",
    "\n",
    "def func2(x):\n",
    "    if x>5:\n",
    "        return x\n",
    "\n",
    "r3=filter(func2,[2,4,6,8])\n",
    "print(r3)\n",
    "print(list(r3))"
   ]
  },
  {
   "cell_type": "code",
   "execution_count": 7,
   "id": "0ee1836e",
   "metadata": {},
   "outputs": [
    {
     "name": "stdout",
     "output_type": "stream",
     "text": [
      "<filter object at 0x0000020C3871E850>\n",
      "[6, 8]\n"
     ]
    }
   ],
   "source": [
    "#Using lambda functions\n",
    "\n",
    "r4=filter(lambda x:x>5, [2,4,6,8])\n",
    "\n",
    "print(r4)\n",
    "print(list(r4))"
   ]
  },
  {
   "cell_type": "code",
   "execution_count": null,
   "id": "9a974926",
   "metadata": {},
   "outputs": [],
   "source": [
    "#REDUCE\n",
    "\n",
    "# This applies a provided function to ‘iterables’ and returns a single value\n"
   ]
  },
  {
   "cell_type": "code",
   "execution_count": 34,
   "id": "76611ecb",
   "metadata": {},
   "outputs": [
    {
     "name": "stdout",
     "output_type": "stream",
     "text": [
      "14\n"
     ]
    }
   ],
   "source": [
    "#Using Normal function\n",
    "def func3(x,y):\n",
    "    if x>y:\n",
    "        return x\n",
    "    else:\n",
    "        return y\n",
    "\n",
    "print(reduce(func3,[8,14,6,2])) \n"
   ]
  },
  {
   "cell_type": "code",
   "execution_count": 32,
   "id": "c153dd04",
   "metadata": {},
   "outputs": [
    {
     "name": "stdout",
     "output_type": "stream",
     "text": [
      "30\n"
     ]
    }
   ],
   "source": [
    "#Using Normal function\n",
    "from functools import reduce\n",
    "def func3(x,y):\n",
    "    return x+y\n",
    "\n",
    "print(reduce(func3,[8,14,6,2]))"
   ]
  },
  {
   "cell_type": "code",
   "execution_count": 38,
   "id": "206e04f2",
   "metadata": {},
   "outputs": [
    {
     "name": "stdout",
     "output_type": "stream",
     "text": [
      "14\n"
     ]
    }
   ],
   "source": [
    "# Using lambda function\n",
    "from functools import reduce\n",
    "\n",
    "print(reduce(lambda x,y: x if x>y else y,[8,14,6,2]))"
   ]
  },
  {
   "cell_type": "code",
   "execution_count": 57,
   "id": "556ab307",
   "metadata": {},
   "outputs": [
    {
     "data": {
      "text/plain": [
       "24"
      ]
     },
     "execution_count": 57,
     "metadata": {},
     "output_type": "execute_result"
    }
   ],
   "source": [
    "# Factorial of a number using lambda\n",
    "\n",
    "x = lambda num : 1 if num == 1 else num*x(num-1)\n",
    "\n",
    "x(4)\n"
   ]
  },
  {
   "cell_type": "code",
   "execution_count": 59,
   "id": "9e0b4102",
   "metadata": {},
   "outputs": [
    {
     "name": "stdout",
     "output_type": "stream",
     "text": [
      "4\n",
      "4 != 24\n"
     ]
    }
   ],
   "source": [
    "from functools import reduce\n",
    "\n",
    "n=int(input())\n",
    "factorial = reduce(lambda x, y: x * y, range(1,n+1))\n",
    "\n",
    "print('%d != %d' %(n, factorial))\n",
    "\n"
   ]
  },
  {
   "cell_type": "code",
   "execution_count": null,
   "id": "78e52eec",
   "metadata": {},
   "outputs": [],
   "source": []
  }
 ],
 "metadata": {
  "kernelspec": {
   "display_name": "Python 3",
   "language": "python",
   "name": "python3"
  },
  "language_info": {
   "codemirror_mode": {
    "name": "ipython",
    "version": 3
   },
   "file_extension": ".py",
   "mimetype": "text/x-python",
   "name": "python",
   "nbconvert_exporter": "python",
   "pygments_lexer": "ipython3",
   "version": "3.8.8"
  }
 },
 "nbformat": 4,
 "nbformat_minor": 5
}
