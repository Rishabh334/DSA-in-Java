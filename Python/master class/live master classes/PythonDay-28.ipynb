{
 "cells": [
  {
   "cell_type": "code",
   "execution_count": 27,
   "id": "c3d96ec1",
   "metadata": {},
   "outputs": [
    {
     "name": "stdout",
     "output_type": "stream",
     "text": [
      "8\n",
      "[0, 0, 0, 0, 0, 0, 0, 0]\n"
     ]
    }
   ],
   "source": [
    "n = int(input())\n",
    "\n",
    "list1 = [0]*n\n",
    "print(list1)"
   ]
  },
  {
   "cell_type": "code",
   "execution_count": 30,
   "id": "0fa1a0e0",
   "metadata": {},
   "outputs": [
    {
     "name": "stdout",
     "output_type": "stream",
     "text": [
      "8\n",
      "[0, 0, 0, 0, 0, 0, 0, 0]\n"
     ]
    }
   ],
   "source": [
    "n = int(input())\n",
    "\n",
    "list1 = [0 for i in range(n)]\n",
    "print(list1)\n"
   ]
  },
  {
   "cell_type": "code",
   "execution_count": 31,
   "id": "89953bc3",
   "metadata": {},
   "outputs": [
    {
     "name": "stdout",
     "output_type": "stream",
     "text": [
      "3\n",
      "6\n",
      "[[0, 0, 0, 0, 0, 0], [0, 0, 0, 0, 0, 0], [0, 0, 0, 0, 0, 0]]\n"
     ]
    }
   ],
   "source": [
    "rows=int(input())\n",
    "cols=int(input())\n",
    "\n",
    "list2 = [[0]*cols]*rows\n",
    "print(list2)"
   ]
  },
  {
   "cell_type": "code",
   "execution_count": 32,
   "id": "38b451fc",
   "metadata": {},
   "outputs": [
    {
     "name": "stdout",
     "output_type": "stream",
     "text": [
      "3\n",
      "6\n",
      "[[0, 0, 0, 0, 0, 0], [0, 0, 0, 0, 0, 0], [0, 0, 0, 0, 0, 0]]\n"
     ]
    }
   ],
   "source": [
    "rows=int(input())\n",
    "cols=int(input())\n",
    "\n",
    "list2 = [[0 for i in range(cols)] for j in range(rows)]\n",
    "\n",
    "\n",
    "print(list2)"
   ]
  },
  {
   "cell_type": "code",
   "execution_count": 33,
   "id": "2c2e36b4",
   "metadata": {},
   "outputs": [
    {
     "name": "stdout",
     "output_type": "stream",
     "text": [
      "3\n",
      "5\n",
      "[[0, 0, 0, 0, 0], [0, 0, 0, 0, 0], [0, 0, 0, 0, 0]]\n"
     ]
    }
   ],
   "source": [
    "rows=int(input())\n",
    "cols=int(input())\n",
    "\n",
    "list2=[]\n",
    "\n",
    "\n",
    "for i in range(rows):\n",
    "    col = []\n",
    "    for j in range(cols):\n",
    "        col.append(0)\n",
    "    list2.append(col)\n",
    "print(list2)"
   ]
  },
  {
   "cell_type": "code",
   "execution_count": 12,
   "id": "268f955b",
   "metadata": {},
   "outputs": [
    {
     "name": "stdout",
     "output_type": "stream",
     "text": [
      "[[12, 14, 16, 18, 20], [23, 26, 29, 32, 35], [44, 48, 52, 56, 60]]\n"
     ]
    }
   ],
   "source": [
    "# Accessing\n",
    "list3 = [[12, 14, 16, 18, 20], [23, 26, 29, 32, 35], [44, 48, 52, 56, 60]]\n",
    "print(list3)"
   ]
  },
  {
   "cell_type": "code",
   "execution_count": 13,
   "id": "516fdccf",
   "metadata": {},
   "outputs": [
    {
     "name": "stdout",
     "output_type": "stream",
     "text": [
      "[12, 14, 16, 18, 20]\n",
      "[23, 26, 29, 32, 35]\n",
      "[44, 48, 52, 56, 60]\n"
     ]
    }
   ],
   "source": [
    "list3 = [[12, 14, 16, 18, 20], [23, 26, 29, 32, 35], [44, 48, 52, 56, 60]]\n",
    "for k in list3:\n",
    "    print(k)"
   ]
  },
  {
   "cell_type": "code",
   "execution_count": 34,
   "id": "204f9169",
   "metadata": {},
   "outputs": [
    {
     "name": "stdout",
     "output_type": "stream",
     "text": [
      "12 14 16 18 20 \n",
      "23 26 29 32 35 \n",
      "44 48 52 56 60 \n"
     ]
    }
   ],
   "source": [
    "list3 = [[12, 14, 16, 18, 20], [23, 26, 29, 32, 35], [44, 48, 52, 56, 60]]\n",
    "for i in range(len(list3)) :   # 0 1 2\n",
    "    for j in range(len(list3[i])) : \n",
    "        print(list3[i][j], end=\" \")\n",
    "    print()"
   ]
  },
  {
   "cell_type": "code",
   "execution_count": 38,
   "id": "9b083c5d",
   "metadata": {},
   "outputs": [
    {
     "name": "stdout",
     "output_type": "stream",
     "text": [
      "90\n"
     ]
    }
   ],
   "source": [
    "list3 = [[12, 14, 16], [23, 26, 29], [14, 18, 52]]\n",
    "sum=0\n",
    "for i in range(len(list3)) :         \n",
    "    for j in range(len(list3[i])) :    \n",
    "        if i==j:          \n",
    "            sum=sum+list3[i][j]\n",
    "print(sum)\n"
   ]
  },
  {
   "cell_type": "code",
   "execution_count": 21,
   "id": "9acd8281",
   "metadata": {},
   "outputs": [
    {
     "name": "stdout",
     "output_type": "stream",
     "text": [
      "[5, 7, 10, 11, 45]\n"
     ]
    }
   ],
   "source": [
    "# SELECTION SORT\n",
    "def selectionSort(array, size):\n",
    "   \n",
    "    for step in range(size):\n",
    "        min_idx = step\n",
    "\n",
    "        for i in range(step + 1, size):\n",
    "            if array[i] < array[min_idx]:\n",
    "                min_idx = i\n",
    "         \n",
    "        # put min at the correct position\n",
    "        (array[step], array[min_idx]) = (array[min_idx], array[step])\n",
    "\n",
    "\n",
    "list1 = [10, 45, 5, 11, 7]\n",
    "size = len(list1)\n",
    "selectionSort(list1, size)\n",
    "print(list1)"
   ]
  },
  {
   "cell_type": "code",
   "execution_count": 41,
   "id": "daf39479",
   "metadata": {},
   "outputs": [
    {
     "name": "stdout",
     "output_type": "stream",
     "text": [
      "niyav\n",
      "vaiyn\n",
      "true\n"
     ]
    }
   ],
   "source": [
    "def isPermutation(str1, str2):\n",
    "  k=str(sorted(str1))\n",
    "  s=str(sorted(str2))\n",
    "  \n",
    "  if k==s:\n",
    "    print('true')\n",
    "  else:\n",
    "    print('false')\n",
    "\n",
    "\n",
    "    \n",
    "str1 = input()\n",
    "str2 = input()\n",
    "\n",
    "ans = isPermutation(str1, str2)\n"
   ]
  },
  {
   "cell_type": "code",
   "execution_count": 44,
   "id": "5c1db087",
   "metadata": {},
   "outputs": [
    {
     "data": {
      "text/plain": [
       "[[], ['a'], ['b'], ['b', 'a'], ['c'], ['c', 'a'], ['c', 'b'], ['c', 'b', 'a']]"
      ]
     },
     "execution_count": 44,
     "metadata": {},
     "output_type": "execute_result"
    }
   ],
   "source": [
    "def combs(a): \n",
    "    if len(a) == 0: \n",
    "        return [[]] \n",
    "    cs = [] \n",
    "    for c in combs(a[1:]): \n",
    "        cs += [c, c+[a[0]]] \n",
    "    return cs\n",
    "\n",
    "combs(\"abc\")\n"
   ]
  },
  {
   "cell_type": "code",
   "execution_count": 47,
   "id": "b15cee29",
   "metadata": {},
   "outputs": [
    {
     "name": "stdout",
     "output_type": "stream",
     "text": [
      "vinay\n",
      "ayvin\n",
      "2\n"
     ]
    }
   ],
   "source": [
    "#Rotation\n",
    "\n",
    "s=input()   \n",
    "r=input()\n",
    "n=len(s)\n",
    "for i in range(n):\n",
    "    if ord(s[i])==ord(r[0]):\n",
    "        minindex1=i\n",
    "for j in range(n-1,-1,-1):\n",
    "    if ord(s[j])==ord(r[0]):\n",
    "        minindex2=n-j\n",
    "if (minindex1<=minindex2):\n",
    "    print(minindex1)\n",
    "else:\n",
    "    print(minindex2)"
   ]
  },
  {
   "cell_type": "code",
   "execution_count": null,
   "id": "18510921",
   "metadata": {},
   "outputs": [],
   "source": []
  }
 ],
 "metadata": {
  "kernelspec": {
   "display_name": "Python 3",
   "language": "python",
   "name": "python3"
  },
  "language_info": {
   "codemirror_mode": {
    "name": "ipython",
    "version": 3
   },
   "file_extension": ".py",
   "mimetype": "text/x-python",
   "name": "python",
   "nbconvert_exporter": "python",
   "pygments_lexer": "ipython3",
   "version": "3.8.8"
  }
 },
 "nbformat": 4,
 "nbformat_minor": 5
}
