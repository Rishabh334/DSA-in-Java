{
 "cells": [
  {
   "cell_type": "code",
   "execution_count": 11,
   "id": "3a2cfa11",
   "metadata": {},
   "outputs": [],
   "source": [
    "# Enter a string\n",
    "# if it is ending with \"ing\" then add \"ly\"\n",
    "# if it is not ending with \"ing\" then add \"ing\"\n",
    "\n",
    "# If length is less than 3 then string will be unchanged\n",
    "\n"
   ]
  },
  {
   "cell_type": "code",
   "execution_count": 35,
   "id": "a1249364",
   "metadata": {},
   "outputs": [
    {
     "name": "stdout",
     "output_type": "stream",
     "text": [
      "ing\n",
      "ingly\n"
     ]
    }
   ],
   "source": [
    "def add_string(str1):  #inningabc\n",
    "  length = len(str1)   #9\n",
    "\n",
    "  if length > 2:\n",
    "    if str1[-3:] == 'ing':    #\n",
    "      str1 += 'ly'              #inningabcing\n",
    "    else:\n",
    "      str1 += 'ing'    #abcdefing\n",
    "\n",
    "  return str1\n",
    "\n",
    "n=input()             #abcdef\n",
    "print(add_string(n)) #"
   ]
  },
  {
   "cell_type": "code",
   "execution_count": 13,
   "id": "ba0b65ec",
   "metadata": {},
   "outputs": [],
   "source": [
    "# win,red,saurab,sachin,win,red\n",
    "# red,sachin,saurab,win\n",
    "\n",
    "\n",
    "# Comma separated sequence of words as input \n",
    "# and prints the unique words in sorted form (alphanumerically).\n",
    "\n"
   ]
  },
  {
   "cell_type": "code",
   "execution_count": 48,
   "id": "7fc6398a",
   "metadata": {},
   "outputs": [
    {
     "name": "stdout",
     "output_type": "stream",
     "text": [
      "red,blue,red,pink,abc,123,blue,zebra\n",
      "123,abc,blue,pink,red,zebra\n"
     ]
    }
   ],
   "source": [
    "a = input().split(\",\")\n",
    "\n",
    "b = sorted(set(a))\n",
    "print(','.join(b))\n"
   ]
  },
  {
   "cell_type": "code",
   "execution_count": 50,
   "id": "6b925f6a",
   "metadata": {},
   "outputs": [
    {
     "name": "stdout",
     "output_type": "stream",
     "text": [
      "red,blue,red,pink,abc,123,blue,zebra\n",
      "123,abc,blue,pink,red,zebra\n"
     ]
    }
   ],
   "source": [
    "a = input()\n",
    "words = [word for word in a.split(\",\")]\n",
    "print(\",\".join(sorted((set(words)))))"
   ]
  },
  {
   "cell_type": "code",
   "execution_count": 17,
   "id": "c69924aa",
   "metadata": {},
   "outputs": [],
   "source": [
    "# Convert a given string to all uppercase \n",
    "#if it contains at least 2 uppercase characters in the first 4 characters\n",
    "\n",
    "\n",
    "#viNay\n",
    "\n",
    "#VINAY\n",
    "\n",
    "\n"
   ]
  },
  {
   "cell_type": "code",
   "execution_count": 53,
   "id": "a36dec85",
   "metadata": {},
   "outputs": [
    {
     "name": "stdout",
     "output_type": "stream",
     "text": [
      "VinaYY\n",
      "VINAY KUKREJA\n"
     ]
    }
   ],
   "source": [
    "def to_uppercase(str1):  #ViNay Kukreja\n",
    "    num_upper = 0       #0\n",
    "    for letter in str1[:4]: \n",
    "        if letter.upper() == letter:\n",
    "            num_upper += 1  #2\n",
    "    if num_upper >= 2:\n",
    "        return str1.upper()\n",
    "    return str1\n",
    "\n",
    "print(to_uppercase('VinaYY'))\n",
    "print(to_uppercase('ViNay Kukreja'))"
   ]
  },
  {
   "cell_type": "code",
   "execution_count": null,
   "id": "578a0f6b",
   "metadata": {},
   "outputs": [],
   "source": [
    "# Encryption\n",
    "\n",
    "\n",
    "\"bfy\"\n",
    "\n",
    "#Output \n",
    "\n",
    "\"dha\"\n",
    "\n",
    "\n",
    "\n",
    "\n"
   ]
  },
  {
   "cell_type": "code",
   "execution_count": 3,
   "id": "2a6ea3d2",
   "metadata": {},
   "outputs": [
    {
     "name": "stdout",
     "output_type": "stream",
     "text": [
      "23\n",
      "25\n",
      "[25]\n",
      "Z\n",
      "['Z']\n",
      "\n",
      "['Z']\n",
      "\n"
     ]
    }
   ],
   "source": [
    "def caesar_encrypt(realText, step):\n",
    "    outText = []\n",
    "    cryptText = []\n",
    "    uppercase = ['A', 'B', 'C', 'D', 'E', 'F', 'G', 'H', 'I', 'J', 'K', 'L', 'M', 'N', 'O', 'P', 'Q', 'R', 'S', 'T', 'U', 'V', 'W', 'X', 'Y', 'Z']\n",
    "    lowercase = ['a', 'b', 'c', 'd', 'e', 'f', 'g', 'h', 'i', 'j', 'k', 'l', 'm', 'n', 'o', 'p', 'q', 'r', 's', 't', 'u', 'v', 'w', 'x', 'y', 'z']\n",
    "\n",
    "    for eachLetter in realText:\n",
    "        if eachLetter in uppercase:\n",
    "            index = uppercase.index(eachLetter)\n",
    "            print(index)\n",
    "            crypting = (index + step) % 26\n",
    "            print(crypting)\n",
    "            cryptText.append(crypting)\n",
    "            print(cryptText)\n",
    "            newLetter = uppercase[crypting]\n",
    "            print(newLetter)\n",
    "            outText.append(newLetter)\n",
    "            print(outText)\n",
    "        elif eachLetter in lowercase:\n",
    "            index = lowercase.index(eachLetter)\n",
    "            crypting = (index + step) % 26\n",
    "            cryptText.append(crypting)\n",
    "            newLetter = lowercase[crypting]\n",
    "            outText.append(newLetter)\n",
    "    return outText\n",
    "\n",
    "code = caesar_encrypt('X', 2)\n",
    "print()\n",
    "print(code)\n",
    "print()"
   ]
  },
  {
   "cell_type": "code",
   "execution_count": null,
   "id": "8f6f64a6",
   "metadata": {},
   "outputs": [],
   "source": []
  }
 ],
 "metadata": {
  "kernelspec": {
   "display_name": "Python 3",
   "language": "python",
   "name": "python3"
  },
  "language_info": {
   "codemirror_mode": {
    "name": "ipython",
    "version": 3
   },
   "file_extension": ".py",
   "mimetype": "text/x-python",
   "name": "python",
   "nbconvert_exporter": "python",
   "pygments_lexer": "ipython3",
   "version": "3.8.8"
  }
 },
 "nbformat": 4,
 "nbformat_minor": 5
}
