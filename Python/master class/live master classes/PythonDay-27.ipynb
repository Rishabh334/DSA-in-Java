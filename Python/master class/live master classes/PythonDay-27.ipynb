{
 "cells": [
  {
   "cell_type": "code",
   "execution_count": 2,
   "id": "a53cd0e6",
   "metadata": {},
   "outputs": [],
   "source": [
    " \n",
    "#  Convert two lists convert it into the dictionary\n",
    "    \n",
    "keys = ['One', 'Two', 'Three']\n",
    "values = [11, 22, 33]\n",
    "\n",
    "\n",
    "\n",
    "\n",
    "\n",
    "\n",
    "\n"
   ]
  },
  {
   "cell_type": "code",
   "execution_count": 3,
   "id": "4bd21858",
   "metadata": {},
   "outputs": [
    {
     "name": "stdout",
     "output_type": "stream",
     "text": [
      "{'One': 1, 'Two': 2, 'Three': 3}\n"
     ]
    }
   ],
   "source": [
    "Dict1 = dict(zip(keys, values))\n",
    "print(Dict1)"
   ]
  },
  {
   "cell_type": "code",
   "execution_count": 21,
   "id": "d1a3c065",
   "metadata": {},
   "outputs": [
    {
     "name": "stdout",
     "output_type": "stream",
     "text": [
      "Original key list is : ['one', 'two', 'three']\n",
      "Original value list is : [11, 22, 33]\n",
      "Resultant dictionary is : {'one': 11, 'two': 22, 'three': 33}\n"
     ]
    }
   ],
   "source": [
    "test_keys = [\"one\", \"two\", \"three\"]\n",
    "test_values = [11,22,33]\n",
    "\n",
    "\n",
    "print (\"Original key list is : \" + str(test_keys))\n",
    "print (\"Original value list is : \" + str(test_values))\n",
    "\n",
    "\n",
    "res = {}\n",
    "for key in test_keys:\n",
    "    for value in test_values:\n",
    "        res[key] = value\n",
    "        test_values.remove(value)\n",
    "        break\n",
    "\n",
    "\n",
    "print (\"Resultant dictionary is : \" + str(res))\n"
   ]
  },
  {
   "cell_type": "code",
   "execution_count": 17,
   "id": "c6ca0081",
   "metadata": {},
   "outputs": [
    {
     "name": "stdout",
     "output_type": "stream",
     "text": [
      "{'one': 1, 'two': 2, 'three': 3}\n"
     ]
    }
   ],
   "source": [
    "keys=[\"one\",\"two\",\"three\"]\n",
    "values=[1,2,3]\n",
    "x=dict(map(lambda x,y:(x,y) ,  keys, values))\n",
    "print(x)"
   ]
  },
  {
   "cell_type": "markdown",
   "id": "5b333fe7",
   "metadata": {},
   "source": [
    "# Merge following two Python dictionaries into one\n",
    "\n",
    "dict1 = {'One': 1, 'Two': 2, 'Three': 3}\n",
    "dict2 = {'ictFour': 4, 'Five': 5, 'Six': 6}\n",
    "\n",
    "\n",
    "\n",
    "\n",
    "\n",
    "\n",
    "\n",
    "\n",
    "\n"
   ]
  },
  {
   "cell_type": "code",
   "execution_count": 24,
   "id": "56795eb8",
   "metadata": {},
   "outputs": [
    {
     "name": "stdout",
     "output_type": "stream",
     "text": [
      "{'One': 1, 'Two': 2, 'Three': 3, 'Four': 4, 'Five': 5, 'Six': 6}\n"
     ]
    }
   ],
   "source": [
    "dict3 = {**dict1, **dict2}\n",
    "print(dict3)"
   ]
  },
  {
   "cell_type": "code",
   "execution_count": 6,
   "id": "01a97394",
   "metadata": {},
   "outputs": [
    {
     "name": "stdout",
     "output_type": "stream",
     "text": [
      "{'One': 1, 'Two': 2, 'Three': 3, 'Four': 4, 'Five': 5, 'Six': 6}\n"
     ]
    }
   ],
   "source": [
    "dict1 = {'One': 1, 'Two': 2, 'Three': 3}\n",
    "dict2 = {'Four': 4, 'Five': 5, 'Six': 6}\n",
    "dict3 = dict1.copy()\n",
    "dict3.update(dict2)\n",
    "print(dict3)"
   ]
  },
  {
   "cell_type": "code",
   "execution_count": 7,
   "id": "eedf598f",
   "metadata": {},
   "outputs": [],
   "source": [
    "# Access value"
   ]
  },
  {
   "cell_type": "code",
   "execution_count": 34,
   "id": "d03ed6f8",
   "metadata": {},
   "outputs": [],
   "source": [
    "Dict3 = { \n",
    "   \"class\":{ \n",
    "      \"student\":{ \n",
    "         \"name\":\"Vikas\",\n",
    "         \"marks\":{ \n",
    "            \"maths\":82,\n",
    "            \"python\":88\n",
    "         }\n",
    "      }\n",
    "   }\n",
    "}"
   ]
  },
  {
   "cell_type": "code",
   "execution_count": 39,
   "id": "7ec6a74b",
   "metadata": {},
   "outputs": [
    {
     "name": "stdout",
     "output_type": "stream",
     "text": [
      "88\n"
     ]
    }
   ],
   "source": [
    "print(Dict3['class']['student']['marks']['python'])"
   ]
  },
  {
   "cell_type": "code",
   "execution_count": 11,
   "id": "e0e47d09",
   "metadata": {},
   "outputs": [],
   "source": [
    "# Rename key city to location in the following dictionary\n",
    "Dict3 = {\n",
    "  \"name\": \"abc\",\n",
    "  \"id\":34,\n",
    "  \"sal\": 7830,\n",
    "  \"city\": \"Patiala\"\n",
    "}"
   ]
  },
  {
   "cell_type": "code",
   "execution_count": 12,
   "id": "b9a5c5ec",
   "metadata": {},
   "outputs": [
    {
     "name": "stdout",
     "output_type": "stream",
     "text": [
      "{'name': 'abc', 'id': 34, 'sal': 7830, 'location': 'Patiala'}\n"
     ]
    }
   ],
   "source": [
    "Dict3['location'] = Dict3.pop('city')\n",
    "print(Dict3)"
   ]
  },
  {
   "cell_type": "code",
   "execution_count": 41,
   "id": "a032d6b3",
   "metadata": {},
   "outputs": [
    {
     "name": "stdout",
     "output_type": "stream",
     "text": [
      "{'name': 'abc', 'id': 34, 'sal': 7830, 'location': 'patiala'}\n",
      "<class 'str'>\n"
     ]
    }
   ],
   "source": [
    "d = {\"name\": 'abc',\"id\": 34,'sal':7830,\"city\":'patiala'}\n",
    "a=str(d)\n",
    "\n",
    "x = a.replace('city' , 'location')\n",
    "print(x)\n",
    "print(type(x))\n"
   ]
  },
  {
   "cell_type": "code",
   "execution_count": null,
   "id": "ab0c498d",
   "metadata": {},
   "outputs": [],
   "source": []
  }
 ],
 "metadata": {
  "kernelspec": {
   "display_name": "Python 3",
   "language": "python",
   "name": "python3"
  },
  "language_info": {
   "codemirror_mode": {
    "name": "ipython",
    "version": 3
   },
   "file_extension": ".py",
   "mimetype": "text/x-python",
   "name": "python",
   "nbconvert_exporter": "python",
   "pygments_lexer": "ipython3",
   "version": "3.8.8"
  }
 },
 "nbformat": 4,
 "nbformat_minor": 5
}
