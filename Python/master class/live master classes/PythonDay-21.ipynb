{
 "cells": [
  {
   "cell_type": "code",
   "execution_count": null,
   "id": "1d781204",
   "metadata": {},
   "outputs": [],
   "source": [
    "# Tuples are defined by enclosing the elements in parentheses () \n",
    "# Tuples are immutable."
   ]
  },
  {
   "cell_type": "code",
   "execution_count": 1,
   "id": "1186fc34",
   "metadata": {},
   "outputs": [
    {
     "name": "stdout",
     "output_type": "stream",
     "text": [
      "('abc', 'def', 123, 'ghi')\n",
      "abc\n"
     ]
    }
   ],
   "source": [
    "t = ('abc','def',123,'ghi')\n",
    "print(t)\n",
    "print(t[0])"
   ]
  },
  {
   "cell_type": "code",
   "execution_count": 2,
   "id": "ccc76878",
   "metadata": {},
   "outputs": [
    {
     "name": "stdout",
     "output_type": "stream",
     "text": [
      "123\n"
     ]
    }
   ],
   "source": [
    "print(t[-2])"
   ]
  },
  {
   "cell_type": "code",
   "execution_count": 4,
   "id": "80d6bb62",
   "metadata": {},
   "outputs": [
    {
     "name": "stdout",
     "output_type": "stream",
     "text": [
      "('def', 123)\n"
     ]
    }
   ],
   "source": [
    "print(t[1:3])"
   ]
  },
  {
   "cell_type": "code",
   "execution_count": 5,
   "id": "fed725cc",
   "metadata": {},
   "outputs": [
    {
     "ename": "TypeError",
     "evalue": "'tuple' object does not support item assignment",
     "output_type": "error",
     "traceback": [
      "\u001b[1;31m---------------------------------------------------------------------------\u001b[0m",
      "\u001b[1;31mTypeError\u001b[0m                                 Traceback (most recent call last)",
      "\u001b[1;32m<ipython-input-5-cf8afaadfbc5>\u001b[0m in \u001b[0;36m<module>\u001b[1;34m\u001b[0m\n\u001b[1;32m----> 1\u001b[1;33m \u001b[0mt\u001b[0m\u001b[1;33m[\u001b[0m\u001b[1;36m1\u001b[0m\u001b[1;33m]\u001b[0m\u001b[1;33m=\u001b[0m\u001b[1;34m'pqr'\u001b[0m\u001b[1;33m\u001b[0m\u001b[1;33m\u001b[0m\u001b[0m\n\u001b[0m",
      "\u001b[1;31mTypeError\u001b[0m: 'tuple' object does not support item assignment"
     ]
    }
   ],
   "source": [
    "t[1]='pqr'"
   ]
  },
  {
   "cell_type": "code",
   "execution_count": 2,
   "id": "9b3bd591",
   "metadata": {},
   "outputs": [
    {
     "name": "stdout",
     "output_type": "stream",
     "text": [
      "()\n",
      "<class 'tuple'>\n"
     ]
    }
   ],
   "source": [
    "t=()\n",
    "print(t)\n",
    "print(type(t))"
   ]
  },
  {
   "cell_type": "code",
   "execution_count": 8,
   "id": "61550e41",
   "metadata": {},
   "outputs": [
    {
     "name": "stdout",
     "output_type": "stream",
     "text": [
      "(1, 3, 5, 7)\n",
      "<class 'tuple'>\n"
     ]
    }
   ],
   "source": [
    "t=(1,3,5,7)\n",
    "print(t)\n",
    "print(type(t))"
   ]
  },
  {
   "cell_type": "code",
   "execution_count": 10,
   "id": "27fb53fb",
   "metadata": {},
   "outputs": [
    {
     "name": "stdout",
     "output_type": "stream",
     "text": [
      "12\n",
      "<class 'int'>\n"
     ]
    }
   ],
   "source": [
    "t=(12)\n",
    "print(t)\n",
    "print(type(t))    # Why output as integer"
   ]
  },
  {
   "cell_type": "code",
   "execution_count": 11,
   "id": "61fd022e",
   "metadata": {},
   "outputs": [],
   "source": [
    "# Answer\n",
    "# Parentheses are also used to define operator precedence in expressions, \n",
    "# Python evaluates the expression (12) as simply the integer 12 and creates an int object. \n",
    "# To tell Python that you really want to define a singleton tuple, \n",
    "# include a trailing comma (,) just before the closing parenthesis"
   ]
  },
  {
   "cell_type": "code",
   "execution_count": 3,
   "id": "5f92515a",
   "metadata": {},
   "outputs": [
    {
     "name": "stdout",
     "output_type": "stream",
     "text": [
      "(12,)\n",
      "<class 'tuple'>\n"
     ]
    }
   ],
   "source": [
    "t=(12,)\n",
    "print(t)\n",
    "print(type(t))"
   ]
  },
  {
   "cell_type": "code",
   "execution_count": 12,
   "id": "fffca357",
   "metadata": {},
   "outputs": [
    {
     "name": "stdout",
     "output_type": "stream",
     "text": [
      "(1, 3, 5, 7)\n",
      "<class 'tuple'>\n"
     ]
    }
   ],
   "source": [
    "t=1,3,5,7\n",
    "print(t)\n",
    "print(type(t))"
   ]
  },
  {
   "cell_type": "code",
   "execution_count": 19,
   "id": "f5642544",
   "metadata": {},
   "outputs": [
    {
     "name": "stdout",
     "output_type": "stream",
     "text": [
      "Before swapping a value abc and b value def\n",
      "After swapping a value def and b value abc\n"
     ]
    }
   ],
   "source": [
    "a='abc'\n",
    "b='def'\n",
    "print(\"Before swapping a value {} and b value {}\".format(a,b))\n",
    "a,b=b,a\n",
    "print(\"After swapping a value {} and b value {}\".format(a,b))"
   ]
  },
  {
   "cell_type": "code",
   "execution_count": 21,
   "id": "bd16c1e9",
   "metadata": {},
   "outputs": [
    {
     "name": "stdout",
     "output_type": "stream",
     "text": [
      "False\n",
      "False\n"
     ]
    }
   ],
   "source": [
    "# Tuples are ordered\n",
    "\n",
    "tup1=(1,3,5,7)\n",
    "tup2=(3,5,1,7)\n",
    "print(tup1==tup2)\n",
    "print(tup1 is tup2)"
   ]
  },
  {
   "cell_type": "code",
   "execution_count": 4,
   "id": "4c2c0939",
   "metadata": {},
   "outputs": [
    {
     "name": "stdout",
     "output_type": "stream",
     "text": [
      "2508103259760\n",
      "2508103259760\n"
     ]
    },
    {
     "data": {
      "text/plain": [
       "True"
      ]
     },
     "execution_count": 4,
     "metadata": {},
     "output_type": "execute_result"
    }
   ],
   "source": [
    "# Important Point\n",
    "str = 'abcdef'\n",
    "str[:]\n",
    "print(id(str[:]))\n",
    "print(id(str))\n",
    "str[:] is str\n",
    "\n",
    "# NOTE\n",
    "#If str is a string, str[:] returns a reference to the same object\n"
   ]
  },
  {
   "cell_type": "code",
   "execution_count": 24,
   "id": "18fa712a",
   "metadata": {},
   "outputs": [
    {
     "name": "stdout",
     "output_type": "stream",
     "text": [
      "2696011059840\n",
      "2696010034496\n"
     ]
    },
    {
     "data": {
      "text/plain": [
       "False"
      ]
     },
     "execution_count": 24,
     "metadata": {},
     "output_type": "execute_result"
    }
   ],
   "source": [
    "list1 = ['abc','def','pqr',245]\n",
    "list1[:]\n",
    "print(id(list1[:]))\n",
    "print(id(list1))\n",
    "list1[:] is list1\n",
    "\n",
    "#Conversely, if list1 is a list, \n",
    "# list1[:] returns a new object that is a copy of a:"
   ]
  },
  {
   "cell_type": "code",
   "execution_count": 32,
   "id": "5d2c3282",
   "metadata": {},
   "outputs": [
    {
     "name": "stdout",
     "output_type": "stream",
     "text": [
      "(1, 3, 5, (11, 13, 15), 'abc')\n",
      "5\n",
      "(11, 13, 15)\n",
      "15\n",
      "15\n"
     ]
    }
   ],
   "source": [
    "tup2=(1,3,5,(11,13,15),'abc')\n",
    "print(tup2)\n",
    "print(tup2[2])\n",
    "print(tup2[3])\n",
    "print(tup2[3][2])\n",
    "print(tup2[3][-1])\n"
   ]
  },
  {
   "cell_type": "code",
   "execution_count": 12,
   "id": "2a259b0a",
   "metadata": {},
   "outputs": [
    {
     "name": "stdout",
     "output_type": "stream",
     "text": [
      "2508103649856\n"
     ]
    },
    {
     "ename": "TypeError",
     "evalue": "'tuple' object does not support item assignment",
     "output_type": "error",
     "traceback": [
      "\u001b[1;31m---------------------------------------------------------------------------\u001b[0m",
      "\u001b[1;31mTypeError\u001b[0m                                 Traceback (most recent call last)",
      "\u001b[1;32m<ipython-input-12-a175d41659c9>\u001b[0m in \u001b[0;36m<module>\u001b[1;34m\u001b[0m\n\u001b[0;32m      2\u001b[0m \u001b[0mprint\u001b[0m\u001b[1;33m(\u001b[0m\u001b[0mid\u001b[0m\u001b[1;33m(\u001b[0m\u001b[0mt5\u001b[0m\u001b[1;33m)\u001b[0m\u001b[1;33m)\u001b[0m\u001b[1;33m\u001b[0m\u001b[1;33m\u001b[0m\u001b[0m\n\u001b[0;32m      3\u001b[0m \u001b[1;33m\u001b[0m\u001b[0m\n\u001b[1;32m----> 4\u001b[1;33m \u001b[0mt5\u001b[0m\u001b[1;33m[\u001b[0m\u001b[1;36m1\u001b[0m\u001b[1;33m]\u001b[0m\u001b[1;33m=\u001b[0m\u001b[1;36m134\u001b[0m\u001b[1;33m\u001b[0m\u001b[1;33m\u001b[0m\u001b[0m\n\u001b[0m",
      "\u001b[1;31mTypeError\u001b[0m: 'tuple' object does not support item assignment"
     ]
    }
   ],
   "source": [
    "t5=(1,2,3) \n",
    "print(id(t5)) \n",
    "\n",
    "t5=(1,2,3,4,5,6)\n",
    "print(id(t5))"
   ]
  },
  {
   "cell_type": "code",
   "execution_count": 37,
   "id": "acb85be7",
   "metadata": {},
   "outputs": [
    {
     "name": "stdout",
     "output_type": "stream",
     "text": [
      "2696009836544\n",
      "2696009736000\n",
      "(1, 2, 3, 4, 5, 6)\n"
     ]
    }
   ],
   "source": [
    "t1=(1,2,3)               \n",
    "t2=(4,5,6)    \n",
    "print(id(t1)) \n",
    "t1=t1+t2     \n",
    "print(id(t1))\n",
    "print(t1)"
   ]
  },
  {
   "cell_type": "code",
   "execution_count": 56,
   "id": "f1b0566a",
   "metadata": {},
   "outputs": [
    {
     "name": "stdout",
     "output_type": "stream",
     "text": [
      "22\n",
      "24\n",
      "26\n",
      "28\n"
     ]
    }
   ],
   "source": [
    "# for loop \n",
    "t1=(22,24,26,28)\n",
    "for i in t1:\n",
    "    print(i)"
   ]
  },
  {
   "cell_type": "code",
   "execution_count": 59,
   "id": "797295f0",
   "metadata": {},
   "outputs": [
    {
     "name": "stdout",
     "output_type": "stream",
     "text": [
      "22\n",
      "24\n",
      "26\n",
      "28\n"
     ]
    }
   ],
   "source": [
    "# for loop for index numbers\n",
    "t1=(22,24,26,28)\n",
    "for i in range(len(t1)):\n",
    "    print(t1[i])"
   ]
  },
  {
   "cell_type": "code",
   "execution_count": 60,
   "id": "8be744bc",
   "metadata": {},
   "outputs": [
    {
     "name": "stdout",
     "output_type": "stream",
     "text": [
      "22\n",
      "24\n",
      "26\n",
      "28\n"
     ]
    }
   ],
   "source": [
    "# while loop\n",
    "t1=(22,24,26,28)\n",
    "i = 0\n",
    "while i < len(t1):\n",
    "  print(t1[i])\n",
    "  i = i + 1"
   ]
  },
  {
   "cell_type": "code",
   "execution_count": 13,
   "id": "e7de42bd",
   "metadata": {},
   "outputs": [
    {
     "name": "stdout",
     "output_type": "stream",
     "text": [
      "2508103324752\n",
      "[1, 2, 11, 4]\n",
      "(1, 2, 11, 4)\n",
      "2508103324752\n"
     ]
    }
   ],
   "source": [
    "# How to modify value of a tuple\n",
    "t1=(1,2,3,4)\n",
    "print(id(t1))\n",
    "t1=list(t1)  # Convert to list\n",
    "\n",
    "t1[2]=11     # Modifying value\n",
    "print(t1)\n",
    "t1=tuple(t1) # Convert back to tuple from list\n",
    "print(t1)\n",
    "print(id(t1))"
   ]
  },
  {
   "cell_type": "code",
   "execution_count": 48,
   "id": "78695cd9",
   "metadata": {},
   "outputs": [
    {
     "name": "stdout",
     "output_type": "stream",
     "text": [
      "('banana', 'cherry', 'apple')\n",
      "banana\n",
      "cherry\n",
      "apple\n"
     ]
    }
   ],
   "source": [
    "# PAcking and unpacking\n",
    "\n",
    "tup1=(\"banana\",\"cherry\",\"apple\")\n",
    "print(tup1)\n",
    "\n",
    "(yellow,red,green)=tup1\n",
    "print(yellow)\n",
    "print(red)\n",
    "print(green)"
   ]
  },
  {
   "cell_type": "code",
   "execution_count": 52,
   "id": "a76d77a9",
   "metadata": {},
   "outputs": [
    {
     "name": "stdout",
     "output_type": "stream",
     "text": [
      "('banana', 'cherry', 'apple', 'apricot', 'black plum')\n",
      "banana\n",
      "cherry\n",
      "['apple', 'apricot', 'black plum']\n"
     ]
    }
   ],
   "source": [
    "tup1=(\"banana\",\"cherry\",\"apple\",\"apricot\",\"black plum\")\n",
    "print(tup1)\n",
    "\n",
    "(yellow,red,*green)=tup1\n",
    "print(yellow)\n",
    "print(red)\n",
    "print(green)"
   ]
  },
  {
   "cell_type": "code",
   "execution_count": 16,
   "id": "1b93718a",
   "metadata": {},
   "outputs": [
    {
     "name": "stdout",
     "output_type": "stream",
     "text": [
      "('banana', 'cherry', 'apple', 'apricot', 'black plum')\n",
      "['banana', 'cherry', 'apple']\n",
      "apricot\n",
      "black plum\n"
     ]
    }
   ],
   "source": [
    "tup1=(\"banana\",\"cherry\",\"apple\",\"apricot\",\"black plum\")\n",
    "print(tup1)\n",
    "\n",
    "(*yellow,red,green)=tup1\n",
    "print(yellow)\n",
    "print(red)\n",
    "print(green)"
   ]
  },
  {
   "cell_type": "markdown",
   "id": "1d2c527f",
   "metadata": {},
   "source": [
    "# Count method\n"
   ]
  },
  {
   "cell_type": "code",
   "execution_count": 18,
   "id": "37d2b95e",
   "metadata": {},
   "outputs": [
    {
     "name": "stdout",
     "output_type": "stream",
     "text": [
      "3\n",
      "2\n"
     ]
    }
   ],
   "source": [
    "t1 = (11, 23, 17, 23, 17, 11, 34, 16, 11, 17)\n",
    "\n",
    "x = t1.count(17)\n",
    "\n",
    "print(x)\n",
    "\n",
    "i=t1.index(17)\n",
    "print(i)"
   ]
  },
  {
   "cell_type": "code",
   "execution_count": null,
   "id": "81fc778b",
   "metadata": {},
   "outputs": [],
   "source": []
  }
 ],
 "metadata": {
  "kernelspec": {
   "display_name": "Python 3",
   "language": "python",
   "name": "python3"
  },
  "language_info": {
   "codemirror_mode": {
    "name": "ipython",
    "version": 3
   },
   "file_extension": ".py",
   "mimetype": "text/x-python",
   "name": "python",
   "nbconvert_exporter": "python",
   "pygments_lexer": "ipython3",
   "version": "3.8.8"
  }
 },
 "nbformat": 4,
 "nbformat_minor": 5
}
