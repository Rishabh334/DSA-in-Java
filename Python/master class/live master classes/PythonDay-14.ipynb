{
 "cells": [
  {
   "cell_type": "code",
   "execution_count": 6,
   "id": "c1f31864",
   "metadata": {},
   "outputs": [
    {
     "name": "stdout",
     "output_type": "stream",
     "text": [
      "5\n",
      "result is 120\n"
     ]
    }
   ],
   "source": [
    "# Factorial of a number\n",
    "def fact(x):    # x=5\n",
    "    f=1         \n",
    "    for i in range(x,0,-1):     \n",
    "        f=f*i\n",
    "    #print(f)\n",
    "    return f\n",
    "\n",
    "\n",
    "n=int(input())    #5\n",
    "result=fact(n)    # result= 120\n",
    "print(\"result is\",result)"
   ]
  },
  {
   "cell_type": "code",
   "execution_count": null,
   "id": "98ab86dd",
   "metadata": {},
   "outputs": [],
   "source": [
    "# Recursion\n",
    "# When a function calls itself again and again"
   ]
  },
  {
   "cell_type": "code",
   "execution_count": 6,
   "id": "af496997",
   "metadata": {},
   "outputs": [
    {
     "name": "stdout",
     "output_type": "stream",
     "text": [
      "5\n",
      "result is 120\n"
     ]
    }
   ],
   "source": [
    "def fact(x):   # x=4\n",
    "    if x == 1:\n",
    "        return 1\n",
    "    else:\n",
    "        return (x * fact(x-1))   #  5 * fact(4)\n",
    "\n",
    "n=int(input())    # 5\n",
    "result=fact(n)    # result = fact(5)  \n",
    "print(\"result is\",result)"
   ]
  },
  {
   "cell_type": "markdown",
   "id": "d353d7cd",
   "metadata": {},
   "source": [
    "# Anonymous function or Lambda Function\n"
   ]
  },
  {
   "cell_type": "code",
   "execution_count": null,
   "id": "304dc5ce",
   "metadata": {},
   "outputs": [],
   "source": [
    "# A function without having a name\n",
    "# Single line function\n",
    "# Not having return or def"
   ]
  },
  {
   "cell_type": "markdown",
   "id": "b1c5cf9f",
   "metadata": {},
   "source": [
    "Syntax:\n",
    "Lambda multiple_arguments: expression\n",
    "\n",
    "where expression returns an object and it is only one in the whole function\n",
    "multiple_arguments used a comma to separate multiple arguments  \n"
   ]
  },
  {
   "cell_type": "code",
   "execution_count": 10,
   "id": "00977184",
   "metadata": {},
   "outputs": [
    {
     "name": "stdout",
     "output_type": "stream",
     "text": [
      "57\n"
     ]
    }
   ],
   "source": [
    "def add_10(x): # Normal function definition\n",
    "    return x+10\n",
    "\n",
    "result=add_10(47)\n",
    "print(result)"
   ]
  },
  {
   "cell_type": "code",
   "execution_count": 14,
   "id": "ebc6fd48",
   "metadata": {},
   "outputs": [
    {
     "name": "stdout",
     "output_type": "stream",
     "text": [
      "59\n"
     ]
    }
   ],
   "source": [
    "lambda_10=lambda x:x+10 #lambda function definition\n",
    "\n",
    "print(lambda_10(49))"
   ]
  },
  {
   "cell_type": "code",
   "execution_count": 15,
   "id": "66556174",
   "metadata": {},
   "outputs": [
    {
     "name": "stdout",
     "output_type": "stream",
     "text": [
      "60\n"
     ]
    }
   ],
   "source": [
    "def sum(x,y,z):\n",
    "    return x+y+z\n",
    "\n",
    "\n",
    "r=sum(10,20,30)\n",
    "print(r)"
   ]
  },
  {
   "cell_type": "code",
   "execution_count": 17,
   "id": "6484be42",
   "metadata": {},
   "outputs": [
    {
     "name": "stdout",
     "output_type": "stream",
     "text": [
      "62\n"
     ]
    }
   ],
   "source": [
    "lambda_sum = lambda x,y,z:x+y+z\n",
    "\n",
    "\n",
    "print(lambda_sum(12,20,30))"
   ]
  },
  {
   "cell_type": "code",
   "execution_count": null,
   "id": "4975b00a",
   "metadata": {},
   "outputs": [],
   "source": [
    "#Lists\n",
    "# Lists are used to store multiple items in a single variable\n",
    "# Lists are created by just placing the sequence inside the square brackets[].\n",
    "\n",
    "#Lists are mutable\n",
    "#Lists are ordered and have a definite count\n",
    "# Indexing in list start from 0"
   ]
  },
  {
   "cell_type": "code",
   "execution_count": 22,
   "id": "b8b95e5d",
   "metadata": {},
   "outputs": [
    {
     "name": "stdout",
     "output_type": "stream",
     "text": [
      "[]\n",
      "[2, 4, 6, 8, 2, 4]\n",
      "2\n",
      "6\n",
      "6\n",
      "Punjab\n",
      "[['Chitkara', 'university'], ['Punjab']]\n",
      "['Punjab']\n",
      "Chitkara\n"
     ]
    }
   ],
   "source": [
    "# Blank list \n",
    "list1 = []\n",
    "print(list1)\n",
    "  \n",
    "# List having numbers\n",
    "list1 = [2,4,6,8,2,4]\n",
    "print(list1)\n",
    "print(list1[4])  #  2\n",
    "print(list1[-4])  #  6\n",
    "\n",
    "# To know length of list\n",
    "print(len(list1))   #6\n",
    "\n",
    "list2 = [\"Chitkara\",\"University\", \"Punjab\"]\n",
    "print(list2[2])\n",
    "  \n",
    "# Nested list\n",
    "list3=          [     [\"Chitkara\",\"university\"],[\"Punjab\"]         ]\n",
    "print(list3)\n",
    "print(list3[1])\n",
    "print(list3[0][1])"
   ]
  },
  {
   "cell_type": "code",
   "execution_count": 26,
   "id": "1c1fc1c2",
   "metadata": {},
   "outputs": [
    {
     "name": "stdout",
     "output_type": "stream",
     "text": [
      "[2, 4, 6, 8, 2, 4, 7]\n",
      "[2, 4, 6, 8, 2, 4, 7, [9, 10]]\n",
      "[9, 10]\n",
      "['Vinay', 2, 4, 6, 8, 2, 4, 7, [9, 10]]\n",
      "['Vinay', 2, 4, 6, 8, 2, 4, 18, 7, [9, 10]]\n",
      "['Vinay', 2, 4, 6, 8, 2, 4, 18, 7, [9, 10], 12, 13, 14, 'great']\n"
     ]
    }
   ],
   "source": [
    "# Adding elements\n",
    "\n",
    "list1 = [2,4,6,8,2,4]\n",
    "list1.append(7)\n",
    "print(list1)\n",
    "\n",
    "list2=[9,10]\n",
    "list1.append(list2)\n",
    "print(list1)\n",
    "print(list1[7])\n",
    "\n",
    "\n",
    "list1.insert(0,\"Vinay\")\n",
    "print(list1)\n",
    "\n",
    "list1.insert(7,18)\n",
    "print(list1)\n",
    "\n",
    "#Add multiple elements at one time at end of list\n",
    "list1.extend([12,13,14,\"great\"])\n",
    "print(list1)"
   ]
  },
  {
   "cell_type": "code",
   "execution_count": 28,
   "id": "bda5890f",
   "metadata": {},
   "outputs": [
    {
     "name": "stdout",
     "output_type": "stream",
     "text": [
      "[2, 4, 8, 2, 4]\n",
      "[2, 8, 2, 4]\n",
      "[2]\n"
     ]
    }
   ],
   "source": [
    "# Removing elements\n",
    "list1 = [2,4,6,8,2,4]\n",
    "list1.remove(6)\n",
    "print(list1)\n",
    "\n",
    "list1.remove(4)\n",
    "print(list1)\n",
    "\n",
    "list1.pop()# remove last element from list\n",
    "list1.pop()\n",
    "list1.pop()\n",
    "print(list1)"
   ]
  },
  {
   "cell_type": "code",
   "execution_count": null,
   "id": "072c3fda",
   "metadata": {},
   "outputs": [],
   "source": [
    "#SLICING\n"
   ]
  },
  {
   "cell_type": "code",
   "execution_count": 45,
   "id": "0dd04841",
   "metadata": {},
   "outputs": [
    {
     "name": "stdout",
     "output_type": "stream",
     "text": [
      "[14, 10]\n",
      "[4, 6, 8, 10]\n",
      "[2, 4, 6, 8, 10, 14]\n",
      "[6, 8, 10, 14]\n",
      "[10, 8, 6]\n"
     ]
    }
   ],
   "source": [
    "list1 = [2,4,6,8,10,14]   # 0 1 2 3 4 5\n",
    "\n",
    "s= list1[-1:-3:-1]\n",
    "print(s)\n",
    "\n",
    "sliced_list1=list1[1:5]   # \n",
    "print(sliced_list1)\n",
    "\n",
    "sliced_list1=list1[::]\n",
    "print(sliced_list1)\n",
    "\n",
    "sliced_list1=list1[2:]\n",
    "print(sliced_list1)\n",
    "\n",
    "\n",
    "sliced_list1=list1[-2:-5:-1]\n",
    "print(sliced_list1)\n",
    "\n"
   ]
  },
  {
   "cell_type": "code",
   "execution_count": 51,
   "id": "268e727c",
   "metadata": {},
   "outputs": [],
   "source": [
    "# List Comprehension\n",
    "\n",
    "# To create new lists from other iterables like tuples, strings, arrays, lists, etc."
   ]
  },
  {
   "cell_type": "code",
   "execution_count": 52,
   "id": "2a29b8d4",
   "metadata": {},
   "outputs": [],
   "source": [
    "# SYNTAX\n",
    "\n",
    "# newList = [ expression(element) for element in oldList if condition ]"
   ]
  },
  {
   "cell_type": "code",
   "execution_count": 37,
   "id": "3da29943",
   "metadata": {},
   "outputs": [
    {
     "name": "stdout",
     "output_type": "stream",
     "text": [
      "[4, 16, 36, 64, 100, 144, 196, 256, 324, 400]\n"
     ]
    }
   ],
   "source": [
    "# Even square\n",
    "even_square = [x ** 2 for x in range(1, 21) if x % 2 == 0] \n",
    "print (even_square)"
   ]
  },
  {
   "cell_type": "code",
   "execution_count": 38,
   "id": "f1517468",
   "metadata": {},
   "outputs": [
    {
     "name": "stdout",
     "output_type": "stream",
     "text": [
      "[4, 16, 36, 64, 100, 144, 196, 256, 324, 400]\n"
     ]
    }
   ],
   "source": [
    "even_square=[]\n",
    "for x in range(1,21):\n",
    "    if x%2==0:\n",
    "        even_square.append(x**2)\n",
    "\n",
    "print(even_square)"
   ]
  },
  {
   "cell_type": "code",
   "execution_count": 43,
   "id": "ec139fd7",
   "metadata": {},
   "outputs": [
    {
     "name": "stdout",
     "output_type": "stream",
     "text": [
      "['orange', 'mango', 'coconut']\n"
     ]
    }
   ],
   "source": [
    "fruits = [\"apple\", \"banana\", \"orange\", \"kiwi\", \"mango\",\"coconut\"]\n",
    "\n",
    "newlist = [x for x in fruits if \"o\" in x]\n",
    "\n",
    "print(newlist)"
   ]
  },
  {
   "cell_type": "code",
   "execution_count": null,
   "id": "ecb46cc3",
   "metadata": {},
   "outputs": [],
   "source": []
  }
 ],
 "metadata": {
  "kernelspec": {
   "display_name": "Python 3",
   "language": "python",
   "name": "python3"
  },
  "language_info": {
   "codemirror_mode": {
    "name": "ipython",
    "version": 3
   },
   "file_extension": ".py",
   "mimetype": "text/x-python",
   "name": "python",
   "nbconvert_exporter": "python",
   "pygments_lexer": "ipython3",
   "version": "3.8.8"
  }
 },
 "nbformat": 4,
 "nbformat_minor": 5
}
