{
 "cells": [
  {
   "cell_type": "markdown",
   "id": "9b83ce7d",
   "metadata": {},
   "source": [
    "1 \n",
    "1 2 1 \n",
    "1 2 3 2 1 \n",
    "1 2 3 4 3 2 1 \n",
    "1 2 3 4 5 4 3 2 1\n",
    "1 2 3 4 5 6 5 4 3 2 1"
   ]
  },
  {
   "cell_type": "code",
   "execution_count": 7,
   "id": "c8deb1f0",
   "metadata": {},
   "outputs": [
    {
     "name": "stdout",
     "output_type": "stream",
     "text": [
      "5\n",
      "1 \n",
      "1 2 1 \n",
      "1 2 3 2 1 \n",
      "1 2 3 4 3 2 1 \n",
      "1 2 3 4 5 4 3 2 1 \n"
     ]
    }
   ],
   "source": [
    "rows = int(input())\n",
    "for i in range(1, rows+1):\n",
    "    for j in range(1,i+1):\n",
    "        print(j, end=\" \")\n",
    "    for j in range(i-1, 0, -1):\n",
    "        print(j, end=\" \")\n",
    "    print()"
   ]
  },
  {
   "cell_type": "code",
   "execution_count": 9,
   "id": "022b6894",
   "metadata": {},
   "outputs": [
    {
     "name": "stdout",
     "output_type": "stream",
     "text": [
      "6\n",
      "1 \n",
      "1 2 \n",
      "1 2 3 \n",
      "1 2 3 4 \n",
      "1 2 3 4 5 \n",
      "1 2 3 4 5 6 \n"
     ]
    }
   ],
   "source": [
    "rows = int(input())\n",
    "for i in range(1, rows+1):\n",
    "    for j in range(1,i+1):\n",
    "        print(j, end=\" \")\n",
    "    print()"
   ]
  },
  {
   "cell_type": "code",
   "execution_count": 10,
   "id": "295e22ab",
   "metadata": {},
   "outputs": [
    {
     "name": "stdout",
     "output_type": "stream",
     "text": [
      "6\n",
      "1 \n",
      "1 2 \n",
      "1 2 3 \n",
      "1 2 3 4 \n",
      "1 2 3 4 5 \n",
      "1 2 3 4 5 6 \n"
     ]
    }
   ],
   "source": [
    "rows = int(input())\n",
    "i=1\n",
    "while i<rows+1:\n",
    "    j=1\n",
    "    while j<i+1:\n",
    "        print(j, end=\" \")\n",
    "        j=j+1\n",
    "    print()\n",
    "    i=i+1\n"
   ]
  },
  {
   "cell_type": "markdown",
   "id": "3fe5b4dc",
   "metadata": {},
   "source": [
    "5 4 3 2 1 1 2 3 4 5 \n",
    "5 4 3 2 2 3 4 5 \n",
    "5 4 3 3 4 5 \n",
    "5 4 4 5 \n",
    "5 5"
   ]
  },
  {
   "cell_type": "code",
   "execution_count": 18,
   "id": "73353270",
   "metadata": {},
   "outputs": [
    {
     "name": "stdout",
     "output_type": "stream",
     "text": [
      "5 4 3 2 1 1 2 3 4 5 \n",
      "5 4 3 2 2 3 4 5 \n",
      "5 4 3 3 4 5 \n",
      "5 4 4 5 \n",
      "5 5 \n"
     ]
    }
   ],
   "source": [
    "rows = 6\n",
    "for i in range(0, rows-1):\n",
    "    for j in range(rows-1, i, -1):\n",
    "        print(j, end=\" \")\n",
    "    for k in range(i + 1, rows):\n",
    "        print(k, end=\" \")\n",
    "    print()"
   ]
  },
  {
   "cell_type": "markdown",
   "id": "ba136f4d",
   "metadata": {},
   "source": [
    "Print Pattern\n",
    "* \n",
    "* * \n",
    "* * * \n",
    "* * * * \n",
    "* * * * * \n",
    "* * * * * * \n",
    "* * * * * \n",
    "* * * * \n",
    "* * * \n",
    "* * \n",
    "* "
   ]
  },
  {
   "cell_type": "code",
   "execution_count": 23,
   "id": "6982fd90",
   "metadata": {},
   "outputs": [
    {
     "name": "stdout",
     "output_type": "stream",
     "text": [
      "* \n",
      "* * \n",
      "* * * \n",
      "* * * * \n",
      "* * * \n",
      "* * \n",
      "* \n"
     ]
    }
   ],
   "source": [
    "n=3\n",
    "for i in range(0, n+1):\n",
    "    for j in range(0, i + 1):\n",
    "        print(\"* \", end=\"\")\n",
    "    print()\n",
    "for i in range(n, 0 , -1):\n",
    "    for j in range(0, i):\n",
    "        print(\"* \", end=\"\")\n",
    "    print()"
   ]
  },
  {
   "cell_type": "code",
   "execution_count": 24,
   "id": "b806d615",
   "metadata": {},
   "outputs": [
    {
     "name": "stdout",
     "output_type": "stream",
     "text": [
      "5\n",
      "1 2 3 4 5 \n",
      "11 12 13 14 15 \n",
      "21 22 23 24 25 \n",
      "16 17 18 19 20 \n",
      "6 7 8 9 10 \n"
     ]
    }
   ],
   "source": [
    "n=int(input())\n",
    "s=1\n",
    "for i in range(1,n+1):\n",
    "    for j in range(s,s+n):\n",
    "        print(j,end=\" \")\n",
    "    print()\n",
    "    if(i==((n+1)//2)):\n",
    "        if((n%2)!=0):\n",
    "            s=n*(n-2)+1\n",
    "        else:\n",
    "            s=n*(n-1)+1\n",
    "    elif(i>(n+1)//2):\n",
    "         s=s-2*n\n",
    "    else:\n",
    "         s=s+2*n\n"
   ]
  },
  {
   "cell_type": "code",
   "execution_count": null,
   "id": "1d865f80",
   "metadata": {},
   "outputs": [],
   "source": []
  }
 ],
 "metadata": {
  "kernelspec": {
   "display_name": "Python 3",
   "language": "python",
   "name": "python3"
  },
  "language_info": {
   "codemirror_mode": {
    "name": "ipython",
    "version": 3
   },
   "file_extension": ".py",
   "mimetype": "text/x-python",
   "name": "python",
   "nbconvert_exporter": "python",
   "pygments_lexer": "ipython3",
   "version": "3.8.8"
  }
 },
 "nbformat": 4,
 "nbformat_minor": 5
}
