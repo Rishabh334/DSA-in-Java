{
 "cells": [
  {
   "cell_type": "code",
   "execution_count": 3,
   "id": "04c58ed0",
   "metadata": {},
   "outputs": [
    {
     "name": "stdout",
     "output_type": "stream",
     "text": [
      "[4.5, 6.56, 2.019, 79.4599, 92.13433, 87.070036]\n"
     ]
    }
   ],
   "source": [
    "c_areas = [4.527732, 6.563468, 2.019444, 79.459877, 92.134334, 87.0700356]\n",
    "\n",
    "\n",
    "\n",
    "\n",
    "\n",
    "\n",
    "\n",
    "\n",
    "\n",
    "\n",
    "\n",
    "\n",
    "\n",
    "\n",
    "\n",
    "\n",
    "\n",
    "\n",
    "\n",
    "\n",
    "\n",
    "\n",
    "# map(function.*iterable1)\n",
    "\n",
    "result = list(map(round, c_areas, range(1,7))) # 1 to 6\n",
    "\n",
    "print(result)"
   ]
  },
  {
   "cell_type": "code",
   "execution_count": 7,
   "id": "79c9437d",
   "metadata": {},
   "outputs": [
    {
     "name": "stdout",
     "output_type": "stream",
     "text": [
      "[('g', 6), ('h', 7), ('kite', 8), ('d', 9)]\n"
     ]
    }
   ],
   "source": [
    "a_strings = ['g', 'h', 'kite', 'd','e']\n",
    "a_numbers = [6,7,8,9]\n",
    "\n",
    "\n",
    "\n",
    "results = list(map(lambda x, y: (x, y), a_strings, a_numbers))\n",
    "\n",
    "print(results)"
   ]
  },
  {
   "cell_type": "code",
   "execution_count": 9,
   "id": "8ee47ae5",
   "metadata": {},
   "outputs": [
    {
     "name": "stdout",
     "output_type": "stream",
     "text": [
      "[2, 4, 6, 18, 32, 14]\n",
      "6\n",
      "None\n",
      "[32, 18, 14, 6, 4, 2]\n"
     ]
    }
   ],
   "source": [
    "# List having numbers\n",
    "list1 = [2,4,6,18,32,14]\n",
    "print(list1)\n",
    "\n",
    "# To know length of list\n",
    "print(len(list1))   #6\n",
    "\n",
    "list1.sort()\n",
    "print(list1)\n",
    "\n",
    "list1.sort(reverse=True)\n",
    "print(list1)"
   ]
  },
  {
   "cell_type": "code",
   "execution_count": 10,
   "id": "d6cefe9d",
   "metadata": {},
   "outputs": [
    {
     "name": "stdout",
     "output_type": "stream",
     "text": [
      "[2, 4, 6, 18, 32, 14]\n",
      "[2, 4, 6, 14, 18, 32]\n",
      "[2, 4, 6, 18, 32, 14]\n",
      "[32, 18, 14, 6, 4, 2]\n",
      "[2, 4, 6, 18, 32, 14]\n"
     ]
    }
   ],
   "source": [
    "# List having numbers\n",
    "list1 = [2,4,6,18,32,14]\n",
    "print(list1)\n",
    "\n",
    "templist1=sorted(list1)\n",
    "print(templist1)\n",
    "print(list1)\n",
    "\n",
    "templist2=sorted(list1,reverse=True)\n",
    "print(templist2)\n",
    "print(list1)\n"
   ]
  },
  {
   "cell_type": "code",
   "execution_count": 25,
   "id": "478cb288",
   "metadata": {},
   "outputs": [
    {
     "name": "stdout",
     "output_type": "stream",
     "text": [
      "[2, 4, 6, 18, 32, 14]\n",
      "[14, 32, 18, 6, 4, 2]\n",
      "1\n"
     ]
    },
    {
     "ename": "ValueError",
     "evalue": "62 is not in list",
     "output_type": "error",
     "traceback": [
      "\u001b[1;31m---------------------------------------------------------------------------\u001b[0m",
      "\u001b[1;31mValueError\u001b[0m                                Traceback (most recent call last)",
      "\u001b[1;32m<ipython-input-25-d4e042b0fdb8>\u001b[0m in \u001b[0;36m<module>\u001b[1;34m\u001b[0m\n\u001b[0;32m      8\u001b[0m \u001b[1;33m\u001b[0m\u001b[0m\n\u001b[0;32m      9\u001b[0m \u001b[0mprint\u001b[0m\u001b[1;33m(\u001b[0m\u001b[0mlist1\u001b[0m\u001b[1;33m.\u001b[0m\u001b[0mindex\u001b[0m\u001b[1;33m(\u001b[0m\u001b[1;36m32\u001b[0m\u001b[1;33m)\u001b[0m\u001b[1;33m)\u001b[0m\u001b[1;33m\u001b[0m\u001b[1;33m\u001b[0m\u001b[0m\n\u001b[1;32m---> 10\u001b[1;33m \u001b[0mprint\u001b[0m\u001b[1;33m(\u001b[0m\u001b[0mlist1\u001b[0m\u001b[1;33m.\u001b[0m\u001b[0mindex\u001b[0m\u001b[1;33m(\u001b[0m\u001b[1;36m62\u001b[0m\u001b[1;33m)\u001b[0m\u001b[1;33m)\u001b[0m\u001b[1;33m\u001b[0m\u001b[1;33m\u001b[0m\u001b[0m\n\u001b[0m",
      "\u001b[1;31mValueError\u001b[0m: 62 is not in list"
     ]
    }
   ],
   "source": [
    "# List having numbers\n",
    "list1 = [2,4,6,18,32,14]\n",
    "print(list1)\n",
    "\n",
    "list1.reverse()  # [14,32,18,6,4,2]\n",
    "print(list1)\n",
    "\n",
    "\n",
    "print(list1.index(32))\n",
    "print(list1.index(62))\n"
   ]
  },
  {
   "cell_type": "code",
   "execution_count": 13,
   "id": "838b8f39",
   "metadata": {},
   "outputs": [
    {
     "name": "stdout",
     "output_type": "stream",
     "text": [
      "[2, 4, 6, 18, 32, 14]\n",
      "[2, 4, 6, 18, 32, 14]\n",
      "\n",
      "2316166353920\n",
      "2316166353920\n",
      "[2, 4, 6, 18, 32, 14, 78]\n",
      "[2, 4, 6, 18, 32, 14, 78]\n"
     ]
    }
   ],
   "source": [
    "# List having numbers\n",
    "list1 = [2,4,6,18,32,14]\n",
    "list2=list1   # Both objects are pointing to the same memory\n",
    "print(list1)\n",
    "print(list2)\n",
    "print()\n",
    "print(id(list1))\n",
    "print(id(list2))\n",
    "list1.append(78)\n",
    "print((list1))\n",
    "print((list2))\n"
   ]
  },
  {
   "cell_type": "code",
   "execution_count": null,
   "id": "262e8493",
   "metadata": {},
   "outputs": [],
   "source": []
  },
  {
   "cell_type": "code",
   "execution_count": 40,
   "id": "2acbd380",
   "metadata": {},
   "outputs": [
    {
     "name": "stdout",
     "output_type": "stream",
     "text": [
      "[2, 4, 6, 18, 32, 14]\n",
      "[2, 4, 6, 18, 32, 14]\n",
      "1488314053440\n",
      "1488314485376\n",
      "[2, 4, 6, 18, 32, 14, 78]\n",
      "[2, 4, 6, 18, 32, 14]\n"
     ]
    }
   ],
   "source": [
    "# COPY LIST\n",
    "# List having numbers\n",
    "list1 = [2,4,6,18,32,14]  #440    7 rooms\n",
    "list2=list1[:]   # 376            6 rooms\n",
    "\n",
    "print(list1)\n",
    "print(list2)\n",
    "print(id(list1))\n",
    "print(id(list2))\n",
    "list1.append(78)\n",
    "print((list1))\n",
    "print((list2))\n"
   ]
  },
  {
   "cell_type": "markdown",
   "id": "0840a623",
   "metadata": {},
   "source": [
    "REMOVE ELEMENTS\n",
    "1. Remove all items: clear()\n",
    "2. Remove an item by index and get its value: pop()\n",
    "3. Remove an item by value: remove()\n",
    "4. Remove items by index or slice: del"
   ]
  },
  {
   "cell_type": "code",
   "execution_count": 50,
   "id": "f44be2c4",
   "metadata": {},
   "outputs": [
    {
     "name": "stdout",
     "output_type": "stream",
     "text": [
      "[12, 13, 14, 15, 16, 17, 18, 19]\n",
      "[]\n"
     ]
    }
   ],
   "source": [
    "rlist1 = list(range(12,20))\n",
    "print(rlist1)\n",
    "\n",
    "#clear\n",
    "rlist1.clear()\n",
    "print(rlist1)\n",
    "\n"
   ]
  },
  {
   "cell_type": "code",
   "execution_count": 61,
   "id": "86fcf59c",
   "metadata": {},
   "outputs": [
    {
     "name": "stdout",
     "output_type": "stream",
     "text": [
      "[12, 13, 14, 15, 16, 17, 18, 19]\n",
      "15\n",
      "19\n",
      "[12, 13, 14, 17, 18]\n",
      "[12, 13, 17, 18]\n"
     ]
    }
   ],
   "source": [
    "rlist1 = list(range(12,20)) # [12,13,17,18]\n",
    "print(rlist1)\n",
    "\n",
    "#pop\n",
    "print(rlist1.pop(3))\n",
    "\n",
    "print(rlist1.pop())\n",
    "\n",
    "#remove\n",
    "rlist1.remove(16)\n",
    "print(rlist1)\n",
    "\n",
    "#del\n",
    "del rlist1[2]\n",
    "print(rlist1)"
   ]
  },
  {
   "cell_type": "code",
   "execution_count": 63,
   "id": "3661f0f1",
   "metadata": {},
   "outputs": [
    {
     "name": "stdout",
     "output_type": "stream",
     "text": [
      "[12, 13, 14, 15, 16, 17, 18, 19]\n",
      "[12, 13, 18, 19]\n"
     ]
    }
   ],
   "source": [
    "rlist1 = list(range(12,20))  #\n",
    "print(rlist1)\n",
    "\n",
    "del rlist1[2:6] # Slicing\n",
    "print(rlist1)"
   ]
  },
  {
   "cell_type": "code",
   "execution_count": 16,
   "id": "572644c1",
   "metadata": {},
   "outputs": [
    {
     "name": "stdout",
     "output_type": "stream",
     "text": [
      "[1, 2, 3, 4, 8, 9, 15]\n",
      "yes sorted\n"
     ]
    }
   ],
   "source": [
    "list1=[2,4,8,1,15,9,3,15,243,3,67,8,9]\n",
    "\n",
    "a=sorted(list1)\n",
    "print(a)\n",
    "if (a==sorted(list1)):\n",
    "    print(\"yes sorted\")\n",
    "else:\n",
    "    print(\"not sorted\")\n"
   ]
  },
  {
   "cell_type": "code",
   "execution_count": 17,
   "id": "8a2054df",
   "metadata": {},
   "outputs": [
    {
     "name": "stdout",
     "output_type": "stream",
     "text": [
      "[3, 9, 15, 1, 8, 4, 2]\n"
     ]
    }
   ],
   "source": [
    "list1=[2,4,8,1,15,9,3]\n",
    "print(list1[::-1])"
   ]
  },
  {
   "cell_type": "code",
   "execution_count": null,
   "id": "b2e05ced",
   "metadata": {},
   "outputs": [],
   "source": [
    "list[0],list[-1]=list[-1],list[0]\n",
    "\n",
    "\n",
    "list[::-1]"
   ]
  }
 ],
 "metadata": {
  "kernelspec": {
   "display_name": "Python 3",
   "language": "python",
   "name": "python3"
  },
  "language_info": {
   "codemirror_mode": {
    "name": "ipython",
    "version": 3
   },
   "file_extension": ".py",
   "mimetype": "text/x-python",
   "name": "python",
   "nbconvert_exporter": "python",
   "pygments_lexer": "ipython3",
   "version": "3.8.8"
  }
 },
 "nbformat": 4,
 "nbformat_minor": 5
}
