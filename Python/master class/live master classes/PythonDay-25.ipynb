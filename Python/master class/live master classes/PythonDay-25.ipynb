{
 "cells": [
  {
   "cell_type": "code",
   "execution_count": 26,
   "id": "c10b036f",
   "metadata": {},
   "outputs": [
    {
     "name": "stdout",
     "output_type": "stream",
     "text": [
      "[False]\n"
     ]
    }
   ],
   "source": [
    "#DO the program - Check list element is in set or NOT\n",
    "\n",
    "a={4,6,8,1,2}\n",
    "b=[3,5,7]\n",
    "\n",
    "res=[any(ele in a for ele in b)]\n",
    "print(str(res))"
   ]
  },
  {
   "cell_type": "code",
   "execution_count": 30,
   "id": "aaf77c7a",
   "metadata": {},
   "outputs": [
    {
     "name": "stdout",
     "output_type": "stream",
     "text": [
      "elements areTrue\n"
     ]
    }
   ],
   "source": [
    "a={4,6,8,1,2}\n",
    "b=[3,8,9]\n",
    "\n",
    "res=bool(a & set(b))\n",
    "print(\"elements are\"+str(res))"
   ]
  },
  {
   "cell_type": "code",
   "execution_count": 32,
   "id": "73a40da1",
   "metadata": {},
   "outputs": [
    {
     "name": "stdout",
     "output_type": "stream",
     "text": [
      "false\n"
     ]
    }
   ],
   "source": [
    "li=[3,4,5,6]\n",
    "se={7,1,8}\n",
    "s=set(li)\n",
    "a=se.intersection(s)\n",
    "if len(a)>0:\n",
    "    print(\"true\")\n",
    "else:\n",
    "    print(\"false\")\n"
   ]
  },
  {
   "cell_type": "code",
   "execution_count": 12,
   "id": "334d6473",
   "metadata": {},
   "outputs": [
    {
     "name": "stdout",
     "output_type": "stream",
     "text": [
      "The original set is : {2, 3, 6, 7, 8}\n",
      "Elements not in set : [5, 9]\n"
     ]
    }
   ],
   "source": [
    "# Find numbers in set that are not defined in range\n",
    "a_set = {2, 6, 3, 7, 8}\n",
    "\n",
    "print(\"The original set is : \" + str(a_set))\n",
    "start, end = 1, 7 \n",
    "res = []\n",
    "for ele in range(start, end):\n",
    "    # getting elements not in set\n",
    "    if ele not in a_set:\n",
    "        res.append(ele)\n",
    "# printing result\n",
    "print(\"Elements not in set : \" + str(res))"
   ]
  },
  {
   "cell_type": "code",
   "execution_count": 14,
   "id": "9a3dea8b",
   "metadata": {},
   "outputs": [
    {
     "name": "stdout",
     "output_type": "stream",
     "text": [
      "The original set is : {2, 3, 6, 7, 8}\n",
      "Elements not in set : [9, 5]\n"
     ]
    }
   ],
   "source": [
    "a_set = {2, 6, 3, 7, 8}\n",
    "  \n",
    "print(\"The original set is : \" + str(a_set))\n",
    "  \n",
    "# initializing range\n",
    "start, end = 5, 10\n",
    "\n",
    "res = list(set(range(start, end)) - a_set)\n",
    "print(\"Elements not in set : \" + str(res))"
   ]
  },
  {
   "cell_type": "code",
   "execution_count": null,
   "id": "b4b0ef8c",
   "metadata": {},
   "outputs": [],
   "source": []
  }
 ],
 "metadata": {
  "kernelspec": {
   "display_name": "Python 3",
   "language": "python",
   "name": "python3"
  },
  "language_info": {
   "codemirror_mode": {
    "name": "ipython",
    "version": 3
   },
   "file_extension": ".py",
   "mimetype": "text/x-python",
   "name": "python",
   "nbconvert_exporter": "python",
   "pygments_lexer": "ipython3",
   "version": "3.8.8"
  }
 },
 "nbformat": 4,
 "nbformat_minor": 5
}
