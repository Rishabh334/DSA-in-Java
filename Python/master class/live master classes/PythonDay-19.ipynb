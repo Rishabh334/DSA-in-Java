{
 "cells": [
  {
   "cell_type": "code",
   "execution_count": 15,
   "id": "09f9a050",
   "metadata": {},
   "outputs": [
    {
     "name": "stdout",
     "output_type": "stream",
     "text": [
      "60\n"
     ]
    }
   ],
   "source": [
    "# Second Largest Number\n",
    "list1 = [10,20,30,20,10,50,60,40,80,50,40]\n",
    "\n",
    "uniq = [] #10 20 30  50 60 40 80\n",
    "for x in list1: \n",
    "    if x not in uniq:\n",
    "        uniq.append(x)\n",
    "\n",
    "a = sorted(uniq)\n",
    "print(a[-2])"
   ]
  },
  {
   "cell_type": "code",
   "execution_count": 16,
   "id": "af0236a1",
   "metadata": {},
   "outputs": [
    {
     "name": "stdout",
     "output_type": "stream",
     "text": [
      "60\n"
     ]
    }
   ],
   "source": [
    "# Second Largest Number\n",
    "list1 = [10,20,30,20,10,50,60,40,80,50,40]\n",
    "\n",
    "uniq = [] #10 20 30  50 60 40 80\n",
    "for x in list1: \n",
    "    if x not in uniq:\n",
    "        uniq.append(x)\n",
    "\n",
    "uniq.sort()\n",
    "print(uniq[-2])"
   ]
  },
  {
   "cell_type": "code",
   "execution_count": 9,
   "id": "d2b38a7b",
   "metadata": {},
   "outputs": [
    {
     "name": "stdout",
     "output_type": "stream",
     "text": [
      "[1, 67, 678]\n"
     ]
    }
   ],
   "source": [
    "# To print integer elements from the list\n",
    "x = [1, 'a', '231', 67,'abc',678,'678af']\n",
    "\n",
    "print([e for e in x if isinstance(e, int)])\n"
   ]
  },
  {
   "cell_type": "code",
   "execution_count": null,
   "id": "69fb748e",
   "metadata": {},
   "outputs": [],
   "source": []
  },
  {
   "cell_type": "code",
   "execution_count": null,
   "id": "60440a90",
   "metadata": {},
   "outputs": [],
   "source": [
    "# list1=[5,22,83]\n",
    "\n",
    "# Answer\n",
    "52283"
   ]
  },
  {
   "cell_type": "code",
   "execution_count": 37,
   "id": "bbea7211",
   "metadata": {},
   "outputs": [
    {
     "name": "stdout",
     "output_type": "stream",
     "text": [
      "52283\n",
      "52284\n"
     ]
    }
   ],
   "source": [
    "list1=[5,22,83]\n",
    "s=\"\"\n",
    "for x in list1:\n",
    "    s= s+str(x) \n",
    "print(s)\n",
    "s=int(s)\n",
    "s=s+1\n",
    "print(s)\n"
   ]
  },
  {
   "cell_type": "code",
   "execution_count": 39,
   "id": "85443b60",
   "metadata": {},
   "outputs": [
    {
     "name": "stdout",
     "output_type": "stream",
     "text": [
      "52283\n",
      "52284\n"
     ]
    }
   ],
   "source": [
    "list1=[5,22,83]\n",
    "s=\"\".join(map(str,list1))\n",
    "print(s)\n",
    "s=int(s)+1\n",
    "print(s)"
   ]
  },
  {
   "cell_type": "code",
   "execution_count": 40,
   "id": "8bec2ccd",
   "metadata": {},
   "outputs": [
    {
     "name": "stdout",
     "output_type": "stream",
     "text": [
      "22445545\n",
      "22445546\n"
     ]
    }
   ],
   "source": [
    "from functools import reduce\n",
    "a = [22,44,55,45]\n",
    "b = []\n",
    "for i in a:\n",
    "    i = str(i)\n",
    "    b.append(i)\n",
    "c = reduce(lambda x,y : x+y, b)\n",
    "print(c)\n",
    "c=int(c)+1\n",
    "print(c)"
   ]
  },
  {
   "cell_type": "code",
   "execution_count": 46,
   "id": "ef29b10b",
   "metadata": {},
   "outputs": [
    {
     "name": "stdout",
     "output_type": "stream",
     "text": [
      "6\n"
     ]
    }
   ],
   "source": [
    "list1=[      [1,2],5,[4,5,6],[7],6,7               ] \n",
    "print(len(list1))\n",
    "\n",
    "ANSWER 3 not 6"
   ]
  },
  {
   "cell_type": "code",
   "execution_count": 67,
   "id": "9f6bdc49",
   "metadata": {},
   "outputs": [
    {
     "name": "stdout",
     "output_type": "stream",
     "text": [
      "2\n"
     ]
    }
   ],
   "source": [
    "li=[1,5,67,[1,2],[3,4]]\n",
    "c=0\n",
    "for i in li:\n",
    "    if isinstance(i,type(list)):\n",
    "        c=c+1\n",
    "print(c)"
   ]
  },
  {
   "cell_type": "code",
   "execution_count": 62,
   "id": "3d71ab23",
   "metadata": {},
   "outputs": [
    {
     "name": "stdout",
     "output_type": "stream",
     "text": [
      "[[1, 2], [3, 4], [6, 7, 8]]\n",
      "3\n"
     ]
    }
   ],
   "source": [
    "list=[[1,2],[3,4],5,[6,7,8],9,10]\n",
    "uniq=[]\n",
    "for ele in list:\n",
    "    if isinstance(ele,type(list)):\n",
    "        uniq.append(ele)\n",
    "print(uniq)\n",
    "a=len(uniq)\n",
    "print(a)"
   ]
  },
  {
   "cell_type": "code",
   "execution_count": null,
   "id": "61687526",
   "metadata": {},
   "outputs": [],
   "source": []
  }
 ],
 "metadata": {
  "kernelspec": {
   "display_name": "Python 3",
   "language": "python",
   "name": "python3"
  },
  "language_info": {
   "codemirror_mode": {
    "name": "ipython",
    "version": 3
   },
   "file_extension": ".py",
   "mimetype": "text/x-python",
   "name": "python",
   "nbconvert_exporter": "python",
   "pygments_lexer": "ipython3",
   "version": "3.8.8"
  }
 },
 "nbformat": 4,
 "nbformat_minor": 5
}
