{
 "cells": [
  {
   "cell_type": "code",
   "execution_count": 1,
   "id": "f2ae4e64",
   "metadata": {},
   "outputs": [
    {
     "data": {
      "text/plain": [
       "'cs frst yr'"
      ]
     },
     "execution_count": 1,
     "metadata": {},
     "output_type": "execute_result"
    }
   ],
   "source": [
    "# Remove vowels from string\n",
    "\n",
    "string = 'cse first year'\n",
    "\n",
    "vowels = ['a','e','i','o','u']\n",
    "\n",
    "''.join([c for c in string if c not in vowels])"
   ]
  },
  {
   "cell_type": "code",
   "execution_count": null,
   "id": "724dbbab",
   "metadata": {},
   "outputs": [],
   "source": [
    "\n",
    "# Count the number of strings where the string length is 2 or more \n",
    "# first and last character are same from a given list of strings.\n",
    "\n",
    "\n",
    "\n",
    "\n",
    "\n",
    "\n",
    "\n",
    "\n",
    "\n",
    "\n",
    "\n",
    "\n",
    "\n",
    "\n",
    "\n",
    "\n",
    "\n",
    "\n"
   ]
  },
  {
   "cell_type": "code",
   "execution_count": 7,
   "id": "deb4d465",
   "metadata": {},
   "outputs": [
    {
     "name": "stdout",
     "output_type": "stream",
     "text": [
      "4\n"
     ]
    }
   ],
   "source": [
    "def found(new_words):\n",
    "    count = 0\n",
    "    for i in new_words:\n",
    "        if len(i) > 1 and i[0] == i[-1]:\n",
    "                count += 1\n",
    "    return count\n",
    "\n",
    "print(found(['aab', 'cbc', '232', '444','madam','sir']))\n"
   ]
  },
  {
   "cell_type": "code",
   "execution_count": null,
   "id": "5005d3bd",
   "metadata": {},
   "outputs": [],
   "source": [
    "# Remove duplicate elements from the list"
   ]
  },
  {
   "cell_type": "code",
   "execution_count": 9,
   "id": "507503a7",
   "metadata": {},
   "outputs": [
    {
     "name": "stdout",
     "output_type": "stream",
     "text": [
      "[10, 20, 30, 50, 60, 40, 80]\n"
     ]
    }
   ],
   "source": [
    "list1 = [10,20,30,20,10,50,60,40,80,50,40]\n",
    "\n",
    "uniq = [] #10 20 30  50 60 40 80\n",
    "for x in list1: \n",
    "    if x not in uniq:\n",
    "        uniq.append(x)\n",
    "\n",
    "print(uniq)"
   ]
  },
  {
   "cell_type": "code",
   "execution_count": null,
   "id": "648bf7e8",
   "metadata": {},
   "outputs": [],
   "source": [
    "# print the numbers from the list after removing even numbers from it."
   ]
  },
  {
   "cell_type": "code",
   "execution_count": 10,
   "id": "16f3dad8",
   "metadata": {},
   "outputs": [
    {
     "name": "stdout",
     "output_type": "stream",
     "text": [
      "[7, 25, 27]\n"
     ]
    }
   ],
   "source": [
    "num = [7,8, 120, 25, 44, 20, 27]\n",
    "\n",
    "num = [x for x in num if x%2!=0]\n",
    "\n",
    "print(num)"
   ]
  },
  {
   "cell_type": "code",
   "execution_count": 9,
   "id": "778918e5",
   "metadata": {},
   "outputs": [
    {
     "name": "stdout",
     "output_type": "stream",
     "text": [
      "[(1, 2, 3), (1, 3, 2), (2, 1, 3), (2, 3, 1), (3, 1, 2), (3, 2, 1)]\n"
     ]
    }
   ],
   "source": [
    "# All permutations\n",
    "\n",
    "from itertools import permutations\n",
    "l = list(permutations(range(1, 4)))\n",
    "print(l)\n",
    "\n",
    "\n",
    "# \"abc\""
   ]
  },
  {
   "cell_type": "code",
   "execution_count": null,
   "id": "4361469b",
   "metadata": {},
   "outputs": [],
   "source": []
  }
 ],
 "metadata": {
  "kernelspec": {
   "display_name": "Python 3",
   "language": "python",
   "name": "python3"
  },
  "language_info": {
   "codemirror_mode": {
    "name": "ipython",
    "version": 3
   },
   "file_extension": ".py",
   "mimetype": "text/x-python",
   "name": "python",
   "nbconvert_exporter": "python",
   "pygments_lexer": "ipython3",
   "version": "3.8.8"
  }
 },
 "nbformat": 4,
 "nbformat_minor": 5
}
