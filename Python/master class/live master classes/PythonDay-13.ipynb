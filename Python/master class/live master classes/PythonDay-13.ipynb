{
 "cells": [
  {
   "cell_type": "code",
   "execution_count": 1,
   "id": "3bdf7312",
   "metadata": {},
   "outputs": [],
   "source": [
    "# FUNCTIONS\n",
    "\n",
    "# A block of code that do a particular task for you"
   ]
  },
  {
   "cell_type": "markdown",
   "id": "802f1b2a",
   "metadata": {},
   "source": [
    "SYNTAX\n",
    "\n",
    "def function_name(parameters):\n",
    "    \"\"\"docstring\"\"\"\n",
    "    statement1\n",
    "    statement2\n",
    "    ..........\n",
    "    ..........\n",
    "    return expression"
   ]
  },
  {
   "cell_type": "code",
   "execution_count": 2,
   "id": "16645442",
   "metadata": {},
   "outputs": [],
   "source": [
    "# Create a function using def\n",
    "# Call a function using function_name followed by parathensis having parameters of that particular function"
   ]
  },
  {
   "cell_type": "code",
   "execution_count": 2,
   "id": "850ebebe",
   "metadata": {},
   "outputs": [
    {
     "name": "stdout",
     "output_type": "stream",
     "text": [
      "CSE First Year\n"
     ]
    }
   ],
   "source": [
    "def func1():\n",
    "    print(\"CSE First Year\")\n",
    "\n",
    "func1()"
   ]
  },
  {
   "cell_type": "code",
   "execution_count": null,
   "id": "051b1268",
   "metadata": {},
   "outputs": [],
   "source": [
    "# Below example having arguments"
   ]
  },
  {
   "cell_type": "code",
   "execution_count": 33,
   "id": "2adc3a7b",
   "metadata": {},
   "outputs": [
    {
     "name": "stdout",
     "output_type": "stream",
     "text": [
      "Vinay\n"
     ]
    }
   ],
   "source": [
    "# If 2nd argument is even then add else subtract\n",
    "def func2(a,b):\n",
    "    if b%2==0:\n",
    "        return(a+b)\n",
    "    else:\n",
    "        return(a-b)\n",
    "\n",
    "\n",
    "print(func2(10,8))\n"
   ]
  },
  {
   "cell_type": "code",
   "execution_count": 6,
   "id": "30a91598",
   "metadata": {},
   "outputs": [],
   "source": [
    "# Types of arguments"
   ]
  },
  {
   "cell_type": "code",
   "execution_count": 7,
   "id": "cb1bd851",
   "metadata": {},
   "outputs": [],
   "source": [
    "#1. DEFAULT ARGUMENTS"
   ]
  },
  {
   "cell_type": "code",
   "execution_count": 10,
   "id": "2cbd4279",
   "metadata": {},
   "outputs": [
    {
     "name": "stdout",
     "output_type": "stream",
     "text": [
      "5\n",
      "43\n"
     ]
    }
   ],
   "source": [
    "# If 2nd argument is even then add else subtract\n",
    "def func3(a,b=7):\n",
    "    if b%2==0:\n",
    "        print(a+b)\n",
    "    else:\n",
    "        print(a-b)\n",
    "\n",
    "func3(10,5)\n",
    "func3(50)"
   ]
  },
  {
   "cell_type": "code",
   "execution_count": 12,
   "id": "218b2ae2",
   "metadata": {},
   "outputs": [],
   "source": [
    "#2. Keyword Arguments"
   ]
  },
  {
   "cell_type": "code",
   "execution_count": 14,
   "id": "3fd35426",
   "metadata": {},
   "outputs": [
    {
     "name": "stdout",
     "output_type": "stream",
     "text": [
      "18\n",
      "45\n"
     ]
    }
   ],
   "source": [
    "# If 2nd argument is even then add else subtract\n",
    "def func4(a,b):\n",
    "    if b%2==0:\n",
    "        print(a+b)\n",
    "    else:\n",
    "        print(a-b)\n",
    "        \n",
    "func4(a=10,b=8)\n",
    "func4(b=11,a=56)"
   ]
  },
  {
   "cell_type": "code",
   "execution_count": 14,
   "id": "656d126d",
   "metadata": {},
   "outputs": [],
   "source": [
    "# 3. Variable length arguments\n",
    "# a) *args (Non-Keyword Arguments)\n",
    "# b) **kwargs (Keyword Arguments)"
   ]
  },
  {
   "cell_type": "code",
   "execution_count": 36,
   "id": "46398e1e",
   "metadata": {},
   "outputs": [
    {
     "name": "stdout",
     "output_type": "stream",
     "text": [
      "This is Chitkara University Punjab "
     ]
    }
   ],
   "source": [
    "def func5(*argv):\n",
    "    for i in argv:\n",
    "        print(i, end=\" \")\n",
    " \n",
    " \n",
    "func5('This','is','Chitkara', 'University', 'Punjab')"
   ]
  },
  {
   "cell_type": "code",
   "execution_count": 18,
   "id": "f8d22252",
   "metadata": {},
   "outputs": [
    {
     "name": "stdout",
     "output_type": "stream",
     "text": [
      "a This\n",
      "b is\n",
      "c Chitkara\n",
      "d University\n",
      "e Punjab\n"
     ]
    }
   ],
   "source": [
    "def func6(**kwargs):\n",
    "    for i,j in kwargs.items():\n",
    "        print(i,j)\n",
    " \n",
    " \n",
    "func6(a='This',b='is',c='Chitkara', d='University', e='Punjab')"
   ]
  },
  {
   "cell_type": "code",
   "execution_count": null,
   "id": "e4cced9b",
   "metadata": {},
   "outputs": [],
   "source": [
    "# DOCSTRING (Document String)\n",
    "# The first line in the function definition usually. It is optional to use and tells the function of the program\n",
    "# SYNTAX \n",
    "#   \"\"\" DOCSTRING\"\"\"\n",
    "# Usage:  print(function_name.__doc__)"
   ]
  },
  {
   "cell_type": "code",
   "execution_count": 19,
   "id": "4c723a1d",
   "metadata": {},
   "outputs": [
    {
     "name": "stdout",
     "output_type": "stream",
     "text": [
      "Even\n",
      "7\n",
      "Odd\n"
     ]
    }
   ],
   "source": [
    "def func7(a):\n",
    "    \"\"\" This program is for checking number if odd or even\"\"\"\n",
    "    if a%2!=0:\n",
    "        print(\"Odd\")\n",
    "    else:\n",
    "        print(\"Even\")\n",
    "        \n",
    "func7(10)\n",
    "x=int(input())\n",
    "func7(x)"
   ]
  },
  {
   "cell_type": "code",
   "execution_count": 21,
   "id": "fddec729",
   "metadata": {},
   "outputs": [
    {
     "name": "stdout",
     "output_type": "stream",
     "text": [
      "This program is for checking number if odd or even\n",
      "Even\n",
      "78\n",
      "Even\n"
     ]
    }
   ],
   "source": [
    "def func7(a):\n",
    "    \"\"\"This program is for checking number if odd or even\"\"\"\n",
    "    if a%2!=0:\n",
    "        print(\"Odd\")\n",
    "    else:\n",
    "        print(\"Even\")\n",
    "        \n",
    "print(func7.__doc__)\n",
    "func7(10)\n",
    "x=int(input())\n",
    "func7(x)\n"
   ]
  },
  {
   "cell_type": "code",
   "execution_count": 25,
   "id": "3cd02009",
   "metadata": {},
   "outputs": [],
   "source": [
    "# Usage of Return statement\n"
   ]
  },
  {
   "cell_type": "code",
   "execution_count": 28,
   "id": "41d90a77",
   "metadata": {},
   "outputs": [
    {
     "name": "stdout",
     "output_type": "stream",
     "text": [
      "125\n",
      "343\n"
     ]
    }
   ],
   "source": [
    "# Cube of a number\n",
    "def cube_number(a):\n",
    "    return a**3\n",
    "\n",
    "d=cube_number(5)\n",
    "print(d)\n",
    "\n",
    "print(cube_number(7))"
   ]
  },
  {
   "cell_type": "code",
   "execution_count": 29,
   "id": "3e2e7573",
   "metadata": {},
   "outputs": [],
   "source": [
    "#Pass by Reference\n"
   ]
  },
  {
   "cell_type": "code",
   "execution_count": 31,
   "id": "b7ad6614",
   "metadata": {},
   "outputs": [
    {
     "name": "stdout",
     "output_type": "stream",
     "text": [
      "<class 'int'>\n",
      "140712443589520\n"
     ]
    }
   ],
   "source": [
    "a=100         # 100 integer object , 520    a\n",
    "print(type(a))\n",
    "print(id(a))"
   ]
  },
  {
   "cell_type": "code",
   "execution_count": 32,
   "id": "32eb45f4",
   "metadata": {},
   "outputs": [
    {
     "name": "stdout",
     "output_type": "stream",
     "text": [
      "<class 'str'>\n",
      "1726514592112\n"
     ]
    }
   ],
   "source": [
    "a=\"Vinay\"    # str object, 112    a\n",
    "print(type(a))\n",
    "print(id(a))"
   ]
  },
  {
   "cell_type": "code",
   "execution_count": 33,
   "id": "de18d0b6",
   "metadata": {},
   "outputs": [
    {
     "name": "stdout",
     "output_type": "stream",
     "text": [
      "<class 'int'>\n",
      "140712443589520\n",
      "<class 'int'>\n",
      "140712443589520\n"
     ]
    }
   ],
   "source": [
    "b=100       #   100 integer object, 520    b,c\n",
    "c=b\n",
    "print(type(b))\n",
    "print(id(b))\n",
    "print(type(c))\n",
    "print(id(c))"
   ]
  },
  {
   "cell_type": "code",
   "execution_count": 35,
   "id": "688fca20",
   "metadata": {},
   "outputs": [
    {
     "name": "stdout",
     "output_type": "stream",
     "text": [
      "140711626026320\n",
      "140711626026640\n"
     ]
    }
   ],
   "source": [
    "b=50                      # 50 int obj\n",
    "print(id(b))             #  320\n",
    "b=b+10                   # 60 int obj, \n",
    "print(id(b))             #640\n"
   ]
  },
  {
   "cell_type": "code",
   "execution_count": 37,
   "id": "e2a8afb3",
   "metadata": {},
   "outputs": [
    {
     "name": "stdout",
     "output_type": "stream",
     "text": [
      "Sent 500 value has address 1726513713712\n",
      "Received 500 value has address 1726513713712\n"
     ]
    }
   ],
   "source": [
    "def func10(arg):\n",
    "    print (\"Received {} value has address {}\".format(arg, id(arg)))\n",
    "\n",
    "a=500\n",
    "print (\"Sent {} value has address {}\".format(a, id(a)))\n",
    "func10(a)"
   ]
  },
  {
   "cell_type": "code",
   "execution_count": 38,
   "id": "31dc1ea8",
   "metadata": {},
   "outputs": [],
   "source": [
    "# NOTE\n",
    "# A function is always called by passing a variable by reference. \n",
    "\n",
    "# Generally, when function definition modifies data that is got from function calling, \n",
    "# the changes will be reflected in original data.  \n",
    "# However, this is not always true.\n",
    "\n",
    "# If the passes parameters are immutable object such as int, float, tuple or string \n",
    "# then changes will not be reflected in original data\n",
    "\n",
    "\n",
    "# Mutable objects like set, dictionary, list etc."
   ]
  },
  {
   "cell_type": "code",
   "execution_count": 40,
   "id": "1fbfc14c",
   "metadata": {},
   "outputs": [
    {
     "name": "stdout",
     "output_type": "stream",
     "text": [
      "Sent 100 value has address 140712443589520\n",
      "Received 100 value has address 140712443589520\n",
      "Changed 110 value has address 140712443589840\n",
      "value after function call 100 has address 140712443589520\n"
     ]
    }
   ],
   "source": [
    "def func11(arg):\n",
    "    print (\"Received {} value has address {}\".format(arg, id(arg)))\n",
    "    arg=arg+10\n",
    "    print (\"Changed {} value has address {}\".format(arg, id(arg)))\n",
    "\n",
    "a=100\n",
    "print (\"Sent {} value has address {}\".format(a, id(a)))\n",
    "func11(a)\n",
    "print (\"value after function call {} has address {}\".format(a, id(a)))"
   ]
  },
  {
   "cell_type": "code",
   "execution_count": 41,
   "id": "e8da8229",
   "metadata": {},
   "outputs": [
    {
     "name": "stdout",
     "output_type": "stream",
     "text": [
      "Sent [10, 20, 30] list has address 1726514590784\n",
      "Received [10, 20, 30] list has address 1726514590784\n",
      "Changed [10, 20, 30, 40] list has address 1726514590784\n",
      "list after function call [10, 20, 30, 40] has address 1726514590784\n"
     ]
    }
   ],
   "source": [
    "# Mutable object example\n",
    "def func12(arg):\n",
    "    print (\"Received {} list has address {}\".format(arg, id(arg)))\n",
    "    arg.append(40)\n",
    "    print (\"Changed {} list has address {}\".format(arg, id(arg)))\n",
    "\n",
    "a=[10,20,30]\n",
    "print (\"Sent {} list has address {}\".format(a, id(a)))\n",
    "func12(a)\n",
    "print (\"list after function call {} has address {}\".format(a, id(a)))"
   ]
  },
  {
   "cell_type": "code",
   "execution_count": 39,
   "id": "18720a49",
   "metadata": {},
   "outputs": [
    {
     "name": "stdout",
     "output_type": "stream",
     "text": [
      "Sent (10, 20, 30) list has address 1985756210432\n",
      "Received (10, 20, 30) list has address 1985756210432\n",
      "Changed (40, 50, 60) list has address 1985756509120\n",
      "list after function call (10, 20, 30) has address 1985756210432\n"
     ]
    }
   ],
   "source": [
    "# Immutable Example\n",
    "def func12(arg):\n",
    "    print (\"Received {} list has address {}\".format(arg, id(arg)))\n",
    "    arg=(40,50,60)\n",
    "    print (\"Changed {} list has address {}\".format(arg, id(arg)))\n",
    "\n",
    "a=(10,20,30)\n",
    "print (\"Sent {} list has address {}\".format(a, id(a)))\n",
    "func12(a)\n",
    "print (\"list after function call {} has address {}\".format(a, id(a)))"
   ]
  },
  {
   "cell_type": "code",
   "execution_count": null,
   "id": "0cfc64b3",
   "metadata": {},
   "outputs": [],
   "source": []
  }
 ],
 "metadata": {
  "kernelspec": {
   "display_name": "Python 3",
   "language": "python",
   "name": "python3"
  },
  "language_info": {
   "codemirror_mode": {
    "name": "ipython",
    "version": 3
   },
   "file_extension": ".py",
   "mimetype": "text/x-python",
   "name": "python",
   "nbconvert_exporter": "python",
   "pygments_lexer": "ipython3",
   "version": "3.8.8"
  }
 },
 "nbformat": 4,
 "nbformat_minor": 5
}
