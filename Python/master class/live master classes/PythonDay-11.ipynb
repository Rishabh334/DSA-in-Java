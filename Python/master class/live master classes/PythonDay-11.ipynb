{
 "cells": [
  {
   "cell_type": "code",
   "execution_count": 1,
   "id": "f6bfa184",
   "metadata": {},
   "outputs": [],
   "source": [
    "# Validating Input using while statement"
   ]
  },
  {
   "cell_type": "code",
   "execution_count": 67,
   "id": "d4498b4f",
   "metadata": {},
   "outputs": [
    {
     "name": "stdout",
     "output_type": "stream",
     "text": [
      "Enter Month(1-12) : 0\n",
      "Enter Month(1-12) : 5\n"
     ]
    }
   ],
   "source": [
    "month=0\n",
    "while not 1<=month<=12:\n",
    "    month=int(input(\"Enter Month(1-12) : \"))"
   ]
  },
  {
   "cell_type": "code",
   "execution_count": 69,
   "id": "fbc23512",
   "metadata": {},
   "outputs": [
    {
     "name": "stdout",
     "output_type": "stream",
     "text": [
      "Enter Month(1-12) : 13\n",
      "Invalid Month : Input Again\n",
      "Enter Month(1-12) : 98\n",
      "Invalid Month : Input Again\n",
      "Enter Month(1-12) : 3\n"
     ]
    }
   ],
   "source": [
    "month=0\n",
    "while not 1<=month<=12:\n",
    "    month=int(input(\"Enter Month(1-12) : \"))\n",
    "    if not 1<=month<=12:\n",
    "        print(\"Invalid Month : Input Again\")\n",
    "    "
   ]
  },
  {
   "cell_type": "markdown",
   "id": "19c6f9c7",
   "metadata": {},
   "source": [
    "Write a program to calculate the sum of following series where n is input by user. \n",
    "1 + 1/2 + 1/3 + 1/4 + 1/5 +…………1/n "
   ]
  },
  {
   "cell_type": "code",
   "execution_count": 73,
   "id": "fc7db3a7",
   "metadata": {},
   "outputs": [
    {
     "name": "stdout",
     "output_type": "stream",
     "text": [
      "4\n",
      "2.083333333333333\n"
     ]
    }
   ],
   "source": [
    "n=int(input())   # 1 + 1/2\n",
    "sum=0     \n",
    "i=1\n",
    "while i<=n:   \n",
    "    sum=sum+1/i  \n",
    "    i=i+1    \n",
    "print(sum)"
   ]
  },
  {
   "cell_type": "code",
   "execution_count": null,
   "id": "a4a20cbb",
   "metadata": {},
   "outputs": [],
   "source": [
    "Compute the followiing\n",
    "1 - 1/2 + 1/3 - 1/4 + 1/5 -... 1/n\n",
    "where n is a positive integer and input by user."
   ]
  },
  {
   "cell_type": "code",
   "execution_count": 74,
   "id": "6954d31e",
   "metadata": {},
   "outputs": [
    {
     "name": "stdout",
     "output_type": "stream",
     "text": [
      "4\n",
      "0.5833333333333333\n"
     ]
    }
   ],
   "source": [
    "n=int(input())  # 1 - 1/2 + 1/3 -1/4\n",
    "sum = 0\n",
    "sign = 1 \n",
    "i=1\n",
    "while i<=n:      # 4<=4\n",
    "    sum=sum+(1*sign)/i    #0.83 -0.25\n",
    "    sign=sign*-1          #1\n",
    "    i=i+1                 #5\n",
    "print(sum)"
   ]
  },
  {
   "cell_type": "code",
   "execution_count": 78,
   "id": "5c1ccc11",
   "metadata": {},
   "outputs": [
    {
     "name": "stdout",
     "output_type": "stream",
     "text": [
      "3\n",
      "0.8333333333333333\n"
     ]
    }
   ],
   "source": [
    "n=int(input())\n",
    "sum=0\n",
    "i=1\n",
    "while i<=n:\n",
    "    if i%2==0:\n",
    "        sum=sum-1/i\n",
    "    else:\n",
    "        sum=sum+1/i\n",
    "    i=i+1\n",
    "print(sum)"
   ]
  },
  {
   "cell_type": "code",
   "execution_count": 81,
   "id": "08d5ce62",
   "metadata": {},
   "outputs": [
    {
     "name": "stdout",
     "output_type": "stream",
     "text": [
      "23\n",
      "34\n",
      "57\n"
     ]
    }
   ],
   "source": [
    "x=int(input())\n",
    "y=int(input())\n",
    "print(x+y)"
   ]
  },
  {
   "cell_type": "code",
   "execution_count": 86,
   "id": "5df137fe",
   "metadata": {},
   "outputs": [
    {
     "name": "stdout",
     "output_type": "stream",
     "text": [
      "12 23\n",
      "12\n",
      "23\n",
      "35\n"
     ]
    }
   ],
   "source": [
    "x,y=input().split()\n",
    "print(x)\n",
    "print(y)\n",
    "print(int(x)+int(y))"
   ]
  },
  {
   "cell_type": "code",
   "execution_count": 90,
   "id": "e2d2f8a9",
   "metadata": {},
   "outputs": [
    {
     "name": "stdout",
     "output_type": "stream",
     "text": [
      "12,23,34\n",
      "69\n"
     ]
    }
   ],
   "source": [
    "x,y,z=[int(i) for i in input().split(\",\")]\n",
    "\n",
    "print(x+y+z)"
   ]
  },
  {
   "cell_type": "code",
   "execution_count": 54,
   "id": "ee636a88",
   "metadata": {},
   "outputs": [
    {
     "name": "stdout",
     "output_type": "stream",
     "text": [
      "Enter values12 23\n",
      "<class 'int'>\n",
      "<class 'int'>\n",
      "35\n"
     ]
    }
   ],
   "source": [
    "x,y=[int(i) for i in input(\"Enter values\").split()]\n",
    "print(type(x))\n",
    "print(type(y))\n",
    "print(x+y)\n"
   ]
  },
  {
   "cell_type": "code",
   "execution_count": 25,
   "id": "dd79fea0",
   "metadata": {},
   "outputs": [
    {
     "name": "stdout",
     "output_type": "stream",
     "text": [
      "Enter two value: 23 34\n",
      "First Number is:  23\n",
      "Second Number is:  34\n",
      "\n"
     ]
    }
   ],
   "source": [
    "# taking two input at a time\n",
    "x, y = [int(x) for x in input(\"Enter two value: \").split()]\n",
    "print(\"First Number is: \", x)\n",
    "print(\"Second Number is: \", y)\n",
    "print()\n",
    " "
   ]
  },
  {
   "cell_type": "code",
   "execution_count": 62,
   "id": "6b7ce376",
   "metadata": {},
   "outputs": [
    {
     "name": "stdout",
     "output_type": "stream",
     "text": [
      "12\n",
      "leap\n"
     ]
    }
   ],
   "source": [
    "year=int(input())\n",
    "if (((year % 4 == 0) and (year % 100 != 0)) or (year % 400 == 0)):\n",
    "    print(\"leap\")\n",
    "else:\n",
    "    print(\"Not\")"
   ]
  },
  {
   "cell_type": "code",
   "execution_count": null,
   "id": "120019f1",
   "metadata": {},
   "outputs": [],
   "source": []
  }
 ],
 "metadata": {
  "kernelspec": {
   "display_name": "Python 3",
   "language": "python",
   "name": "python3"
  },
  "language_info": {
   "codemirror_mode": {
    "name": "ipython",
    "version": 3
   },
   "file_extension": ".py",
   "mimetype": "text/x-python",
   "name": "python",
   "nbconvert_exporter": "python",
   "pygments_lexer": "ipython3",
   "version": "3.8.8"
  }
 },
 "nbformat": 4,
 "nbformat_minor": 5
}
